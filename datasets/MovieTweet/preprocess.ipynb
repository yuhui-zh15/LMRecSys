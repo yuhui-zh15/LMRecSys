{
 "cells": [
  {
   "cell_type": "code",
   "execution_count": 5,
   "source": [
    "import json\n",
    "import numpy as np\n",
    "import torch\n",
    "from transformers import AutoTokenizer, AutoConfig, AutoModelForMaskedLM\n",
    "from tqdm import tqdm\n",
    "import pandas as pd\n",
    "from scipy import stats\n",
    "from matplotlib import pyplot as plt\n",
    "from collections import Counter"
   ],
   "outputs": [],
   "metadata": {}
  },
  {
   "cell_type": "code",
   "execution_count": 6,
   "source": [
    "############# Build id2name #############\n",
    "id2name = {}\n",
    "for item in pd.read_csv('meta_34391.csv').values.tolist():\n",
    "    id, name = item[0], item[1]\n",
    "    if id in id2name: print(id)\n",
    "    id2name[id] = name\n",
    "\n",
    "oldid2newid = {} # trim empty ids\n",
    "for new_id, old_id in enumerate(sorted(id2name.keys())): oldid2newid[old_id] = new_id\n",
    "\n",
    "id2name = [id2name[id] for id in sorted(id2name.keys())]\n",
    "\n",
    "############# Build user2ids #############\n",
    "user2ids = {}\n",
    "for item in pd.read_csv('events_854043.csv').values.tolist():\n",
    "    user, id, time = item[0], oldid2newid[item[1]], item[2]\n",
    "    if user not in user2ids: user2ids[user] = []\n",
    "    user2ids[user].append((id, time))\n",
    "for user in user2ids:\n",
    "    user2ids[user] = sorted(user2ids[user], key=lambda x: x[1])\n",
    "    user2ids[user], _ = zip(*user2ids[user])"
   ],
   "outputs": [
    {
     "output_type": "stream",
     "name": "stdout",
     "text": [
      "1979376\n",
      "4160708\n",
      "/home/ubuntu/develop/miniconda3/lib/python3.9/site-packages/IPython/core/interactiveshell.py:3441: DtypeWarning: Columns (28) have mixed types.Specify dtype option on import or set low_memory=False.\n",
      "  exec(code_obj, self.user_global_ns, self.user_ns)\n"
     ]
    }
   ],
   "metadata": {}
  },
  {
   "cell_type": "code",
   "execution_count": 40,
   "source": [
    "print('# user:', len(user2ids), ',', '# movie:', len(id2name), ',', '# interaction:', sum([len(user2ids[user]) for user in user2ids]))\n",
    "print('History:', stats.describe([len(user2ids[user]) for user in user2ids]))\n",
    "tokenizer = AutoTokenizer.from_pretrained('bert-base-cased')\n",
    "print('# words in movie name:', stats.describe([len(name.split()) for name in id2name]))\n",
    "print('# tokens in movie name:', stats.describe([len(tokenizer(name, add_special_tokens=False)['input_ids']) for name in id2name]))"
   ],
   "outputs": [
    {
     "output_type": "stream",
     "name": "stdout",
     "text": [
      "# user: 39255 , # movie: 34389 , # interaction: 854043\n",
      "History: DescribeResult(nobs=39255, minmax=(2, 2861), mean=21.75628582346198, variance=3456.9537725193118, skewness=12.253214762368781, kurtosis=308.6869075069097)\n",
      "# words in movie name: DescribeResult(nobs=34389, minmax=(1, 20), mean=2.8361685422664222, variance=2.8835341853881884, skewness=1.5914757304292597, kurtosis=4.7485622666565455)\n",
      "# tokens in movie name: DescribeResult(nobs=34389, minmax=(1, 46), mean=4.299863328389892, variance=6.920489977830738, skewness=1.9662864665999071, kurtosis=7.69409183041857)\n"
     ]
    }
   ],
   "metadata": {}
  },
  {
   "cell_type": "code",
   "execution_count": 21,
   "source": [
    "def save_jsonl(data, filename):\n",
    "    with open(filename, 'w') as fout:\n",
    "        for item in data:\n",
    "            fout.write(json.dumps(item) + '\\n')\n",
    "\n",
    "data = [{'user': user, 'ids': user2ids[user]} for user in user2ids]\n",
    "save_jsonl(data, 'data.jsonl')\n",
    "json.dump(id2name, open('id2name.json', 'w'))"
   ],
   "outputs": [],
   "metadata": {}
  },
  {
   "cell_type": "code",
   "execution_count": 27,
   "source": [
    "user = 3\n",
    "print([id2name[id] for id in user2ids[user]])\n",
    "print(data[user - 2]['ids'], len(data[user - 2]['ids']))\n",
    "print(user2ids[user], len(user2ids[user]))"
   ],
   "outputs": [
    {
     "output_type": "stream",
     "name": "stdout",
     "text": [
      "['Blue Is the Warmest Colour', 'Still Life', 'American Hustle', 'Dallas Buyers Club', 'Hungry Hearts']\n",
      "(22138, 22852, 19714, 14414, 25584) 5\n",
      "(22138, 22852, 19714, 14414, 25584) 5\n"
     ]
    }
   ],
   "metadata": {}
  },
  {
   "cell_type": "markdown",
   "source": [
    "# Analyze Data"
   ],
   "metadata": {}
  },
  {
   "cell_type": "code",
   "execution_count": 3,
   "source": [
    "id2name = json.load(open('id2name.json'))\n",
    "data = [json.loads(line) for line in open('data.jsonl')]"
   ],
   "outputs": [],
   "metadata": {}
  },
  {
   "cell_type": "code",
   "execution_count": 27,
   "source": [
    "step = 10\n",
    "names, freqs = zip(*Counter([id2name[item['ids'][step]] for item in data if len(item['ids']) > step]).most_common(200))\n",
    "print(list(zip(names[:5], freqs[:5])))\n",
    "plt.bar(range(len(freqs)), freqs)"
   ],
   "outputs": [
    {
     "output_type": "stream",
     "name": "stdout",
     "text": [
      "[('Man of Steel', 79), ('Gravity', 73), ('Now You See Me', 73), ('Captain Phillips', 54), ('World War Z', 54)]\n"
     ]
    },
    {
     "output_type": "execute_result",
     "data": {
      "text/plain": [
       "<BarContainer object of 200 artists>"
      ]
     },
     "metadata": {},
     "execution_count": 27
    },
    {
     "output_type": "display_data",
     "data": {
      "text/plain": [
       "<Figure size 432x288 with 1 Axes>"
      ],
      "image/png": "[encoded data removed]"
     },
     "metadata": {
      "needs_background": "light"
     }
    }
   ],
   "metadata": {}
  },
  {
   "cell_type": "code",
   "execution_count": 30,
   "source": [
    "[id2name[id] for id in data[2]['ids']]"
   ],
   "outputs": [
    {
     "output_type": "execute_result",
     "data": {
      "text/plain": [
       "['K-19: The Widowmaker',\n",
       " 'Bachelorette',\n",
       " 'The Great Gatsby',\n",
       " 'Hyde Park on Hudson',\n",
       " 'Identity Thief',\n",
       " 'The Imitation Game']"
      ]
     },
     "metadata": {},
     "execution_count": 30
    }
   ],
   "metadata": {}
  },
  {
   "cell_type": "code",
   "execution_count": null,
   "source": [],
   "outputs": [],
   "metadata": {}
  }
 ],
 "metadata": {
  "kernelspec": {
   "name": "python3",
   "display_name": "Python 3.9.1 64-bit ('base': conda)"
  },
  "language_info": {
   "codemirror_mode": {
    "name": "ipython",
    "version": 3
   },
   "file_extension": ".py",
   "mimetype": "text/x-python",
   "name": "python",
   "nbconvert_exporter": "python",
   "pygments_lexer": "ipython3",
   "version": "3.9.1"
  },
  "interpreter": {
   "hash": "e329eaacdde1c3f16b1d348b966d5b9ad2a51ea4006f452504e74c885ba70bb5"
  }
 },
 "nbformat": 4,
 "nbformat_minor": 5
}