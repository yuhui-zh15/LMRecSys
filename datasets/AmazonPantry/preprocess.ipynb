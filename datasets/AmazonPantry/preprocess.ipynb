{
 "cells": [
  {
   "cell_type": "code",
   "execution_count": 7,
   "id": "9282e975",
   "metadata": {},
   "outputs": [],
   "source": [
    "import json\n",
    "import numpy as np\n",
    "import torch\n",
    "from transformers import AutoTokenizer, AutoConfig, AutoModelForMaskedLM\n",
    "from tqdm import tqdm\n",
    "import pandas as pd\n",
    "from matplotlib import pyplot as plt\n",
    "from scipy import stats"
   ]
  },
  {
   "cell_type": "code",
   "execution_count": 5,
   "metadata": {},
   "outputs": [],
   "source": [
    "############# Build id2name #############\n",
    "id2name = {}\n",
    "for item in pd.read_csv('meta_9946.csv').values.tolist():\n",
    "    id, name = item[0], item[1]\n",
    "    if id in id2name: print(id)\n",
    "    id2name[id] = name\n",
    "\n",
    "oldid2newid = {} # trim empty ids\n",
    "for new_id, old_id in enumerate(sorted(id2name.keys())): oldid2newid[old_id] = new_id\n",
    "\n",
    "id2name = [id2name[id] for id in sorted(id2name.keys())]\n",
    "\n",
    "############# Build user2ids #############\n",
    "user2ids = {}\n",
    "for item in pd.read_csv('events_297018.csv').values.tolist():\n",
    "    user, id, time = item[1], oldid2newid[item[0]], item[3]\n",
    "    if user not in user2ids: user2ids[user] = []\n",
    "    user2ids[user].append((id, time))\n",
    "for user in user2ids:\n",
    "    user2ids[user] = sorted(user2ids[user], key=lambda x: x[1])\n",
    "    user2ids[user], _ = zip(*user2ids[user])"
   ]
  },
  {
   "cell_type": "code",
   "execution_count": 8,
   "id": "af163ca8",
   "metadata": {},
   "outputs": [
    {
     "output_type": "stream",
     "name": "stdout",
     "text": [
      "# user: 75601 , # item: 9946 , # interaction: 297018\n",
      "History: DescribeResult(nobs=75601, minmax=(2, 201), mean=3.9287575561169827, variance=24.440585822714898, skewness=9.44282152586692, kurtosis=180.0857730869049)\n",
      "# words in item name: DescribeResult(nobs=9946, minmax=(2, 34), mean=10.67052081238689, variance=16.712448134961477, skewness=1.5549009139109813, kurtosis=3.680650137290357)\n",
      "# tokens in item name: DescribeResult(nobs=9946, minmax=(3, 76), mean=23.487331590589182, variance=77.176561466105, skewness=1.4819774965770933, kurtosis=3.410896833209314)\n"
     ]
    }
   ],
   "source": [
    "print('# user:', len(user2ids), ',', '# item:', len(id2name), ',', '# interaction:', sum([len(user2ids[user]) for user in user2ids]))\n",
    "print('History:', stats.describe([len(user2ids[user]) for user in user2ids]))\n",
    "tokenizer = AutoTokenizer.from_pretrained('bert-base-cased')\n",
    "print('# words in item name:', stats.describe([len(name.split()) for name in id2name]))\n",
    "print('# tokens in item name:', stats.describe([len(tokenizer(name, add_special_tokens=False)['input_ids']) for name in id2name]))"
   ]
  },
  {
   "cell_type": "code",
   "execution_count": 9,
   "id": "93272cb5",
   "metadata": {},
   "outputs": [],
   "source": [
    "def save_jsonl(data, filename):\n",
    "    with open(filename, 'w') as fout:\n",
    "        for item in data:\n",
    "            fout.write(json.dumps(item) + '\\n')\n",
    "\n",
    "data = [{'user': user, 'ids': user2ids[user]} for user in user2ids]\n",
    "save_jsonl(data, 'data.jsonl')\n",
    "json.dump(id2name, open('id2name.json', 'w'))"
   ]
  },
  {
   "cell_type": "code",
   "execution_count": 13,
   "id": "e83fafe7",
   "metadata": {},
   "outputs": [
    {
     "output_type": "stream",
     "name": "stdout",
     "text": [
      "['PASTA RONI SHELL WHT CHEDDAR 6.2OZ.', 'Softsoap Liquid Hand Soap, Lavender and Chamomile - 7.5 Fluid Ounce.', 'Softsoap Liquid Hand Soap, Lavender and Chamomile - 7.5 Fluid Ounce.', 'Twinings of London Earl Grey Black Tea Bags, 100 Count.', 'King Arthur White Whole Wheat Flour, 100% Whole Grain, 5 Pounds.', 'Del Monte Pear Halves, Lite, 15 Oz.', 'Del Monte Canned Yellow Cling Sliced Peaches in Extra Light Syrup, 15-Ounce.', 'Arm Hammer Laundry Detergent Plus OxiClean, Fresh Scent, 122.5 Oz.', 'Crystal Light Drink Mix, Peach Tea, Pitcher Packets, 6 Count.', 'Rice-A-Roni Chicken and Mushroom, 5 Ounce.', 'Kraft Barbecue Sauce Slow-Simmered Sauce, Sweet Honey, 18 Ounce.', \"Campbell's Condensed Soup, Tomato, 10.75 oz, 6 Count.\", 'Arm Hammer Advance White Extreme Whitening Toothpaste, 6 oz Twin Pack (Packaging May Vary).', 'GOOD PLENTY Licorice Candy, 5 Pound Bulk Candy.', 'Boost Original Complete Nutritional Drink, Rich Chocolate, 8 fl oz Bottle, 12 Pack.', 'Boost Original Complete Nutritional Drink, Delight Vanilla, 8 fl oz Bottle, 12 Pack.', 'Visine Tears Lubricant Eye Drops for Dry Eye Relief, 0.5 Fluid Ounce.']\n(45, 396, 396, 4044, 481, 19, 230, 2046, 3138, 3286, 3378, 3505, 4590, 6919, 7157, 7158, 1319) 17\n"
     ]
    }
   ],
   "source": [
    "user = 'A1STOHTZ9BOA43'\n",
    "print([id2name[id] for id in user2ids[user]])\n",
    "print(user2ids[user], len(user2ids[user]))"
   ]
  },
  {
   "cell_type": "code",
   "execution_count": null,
   "metadata": {},
   "outputs": [],
   "source": []
  }
 ],
 "metadata": {
  "kernelspec": {
   "name": "python3",
   "display_name": "Python 3.9.1 64-bit ('base': conda)"
  },
  "language_info": {
   "codemirror_mode": {
    "name": "ipython",
    "version": 3
   },
   "file_extension": ".py",
   "mimetype": "text/x-python",
   "name": "python",
   "nbconvert_exporter": "python",
   "pygments_lexer": "ipython3",
   "version": "3.9.1"
  },
  "interpreter": {
   "hash": "e329eaacdde1c3f16b1d348b966d5b9ad2a51ea4006f452504e74c885ba70bb5"
  }
 },
 "nbformat": 4,
 "nbformat_minor": 5
}