{
 "cells": [
  {
   "cell_type": "code",
   "execution_count": 1,
   "source": [
    "import json\n",
    "import numpy as np\n",
    "import torch\n",
    "from transformers import AutoTokenizer, AutoConfig, AutoModelForMaskedLM\n",
    "from tqdm import tqdm\n",
    "import pandas as pd\n",
    "from scipy import stats\n",
    "from collections import Counter\n",
    "from matplotlib import pyplot as plt"
   ],
   "outputs": [],
   "metadata": {}
  },
  {
   "cell_type": "code",
   "execution_count": 3,
   "source": [
    "# MovieLens names are wrong, but use it to initialize\n",
    "id2name = {}\n",
    "for line in open('../MovieLens-1M/movies.dat'): \n",
    "    id, name, type = line.strip().split('::')\n",
    "    id = int(id)\n",
    "    assert(name[-1] == ')' and name[-6] == '(')\n",
    "    id2name[id] = name[:-6].strip()\n",
    "\n",
    "# Update new name from Hao's metadata, some ids are missing\n",
    "for item in pd.read_csv('../MovieLens-1M/ML1M_Meta_3670.csv').values.tolist():\n",
    "    id2name[item[0]] = item[3]"
   ],
   "outputs": [],
   "metadata": {}
  },
  {
   "cell_type": "code",
   "execution_count": 4,
   "source": [
    "oldid2newid = {} # trim empty ids\n",
    "for new_id, old_id in enumerate(sorted(id2name.keys())): oldid2newid[old_id] = new_id\n",
    "id2name = [id2name[id] for id in sorted(id2name.keys())]"
   ],
   "outputs": [],
   "metadata": {}
  },
  {
   "cell_type": "code",
   "execution_count": 5,
   "source": [
    "user2ids = {}\n",
    "for line in open('../MovieLens-1M/ratings.dat'):\n",
    "    user, id, rating, time = line.strip().split('::')\n",
    "    user, id, rating, time = int(user), oldid2newid[int(id)], int(rating), int(time)\n",
    "    if rating != 5: continue\n",
    "    if user not in user2ids: user2ids[user] = []\n",
    "    user2ids[user].append((id, time))\n",
    "for user in user2ids:\n",
    "    user2ids[user] = sorted(user2ids[user], key=lambda x: x[1])\n",
    "    user2ids[user], _ = zip(*user2ids[user])"
   ],
   "outputs": [],
   "metadata": {}
  },
  {
   "cell_type": "code",
   "execution_count": 6,
   "source": [
    "print('# user:', len(user2ids), ',', '# movie:', len(id2name), ',', '# interaction:', sum([len(user2ids[user]) for user in user2ids]))\n",
    "print('History:', stats.describe([len(user2ids[user]) for user in user2ids]))\n",
    "tokenizer = AutoTokenizer.from_pretrained('bert-base-cased')\n",
    "print('# words in movie name:', stats.describe([len(name.split()) for name in id2name]))\n",
    "print('# tokens in movie name:', stats.describe([len(tokenizer(name, add_special_tokens=False)['input_ids']) for name in id2name]))"
   ],
   "outputs": [
    {
     "output_type": "stream",
     "name": "stdout",
     "text": [
      "# user: 6014 , # movie: 3883 , # interaction: 226310\n",
      "History: DescribeResult(nobs=6014, minmax=(1, 571), mean=37.63052876621217, variance=1906.4176010175493, skewness=3.4206998467083447, kurtosis=19.41638792240454)\n",
      "# words in movie name: DescribeResult(nobs=3883, minmax=(1, 15), mean=2.8532062838011845, variance=2.672933431676114, skewness=1.5587508576280893, kurtosis=4.413184077254987)\n",
      "# tokens in movie name: DescribeResult(nobs=3883, minmax=(1, 25), mean=4.110739119237703, variance=5.747651256756257, skewness=2.024892296904092, kurtosis=7.619923800325971)\n"
     ]
    }
   ],
   "metadata": {}
  },
  {
   "cell_type": "code",
   "execution_count": 46,
   "source": [
    "def save_jsonl(data, filename):\n",
    "    with open(filename, 'w') as fout:\n",
    "        for item in data:\n",
    "            fout.write(json.dumps(item) + '\\n')\n",
    "\n",
    "data = [{'user': user, 'ids': user2ids[user][-7:]} for user in user2ids if len(user2ids[user]) >= 7]\n",
    "print(len(data))\n",
    "save_jsonl(data, 'data.jsonl')\n",
    "json.dump(id2name, open('id2name.json', 'w'))"
   ],
   "outputs": [
    {
     "output_type": "stream",
     "name": "stdout",
     "text": [
      "5337\n"
     ]
    }
   ],
   "metadata": {}
  },
  {
   "cell_type": "code",
   "execution_count": 38,
   "source": [
    "user = 4\n",
    "print(data[user - 1]['ids'], len(data[user - 1]['ids']))\n",
    "print(user2ids[user], len(user2ids[user]))"
   ],
   "outputs": [
    {
     "output_type": "stream",
     "name": "stdout",
     "text": [
      "(3399, 257, 1180, 1366, 1959, 1183, 2623, 2878, 1220, 1885) 10\n",
      "(3399, 257, 1180, 1366, 1959, 1183, 2623, 2878, 1220, 1885) 10\n"
     ]
    }
   ],
   "metadata": {}
  },
  {
   "cell_type": "code",
   "execution_count": 45,
   "source": [
    "idx = -7\n",
    "names, freqs = zip(*Counter(id2name[item['ids'][idx]] for item in data).most_common())\n",
    "plt.bar(range(100), freqs[:100])\n",
    "print(names[:5], freqs[:5])"
   ],
   "outputs": [
    {
     "output_type": "stream",
     "name": "stdout",
     "text": [
      "('American Beauty', 'Saving Private Ryan', 'The Sixth Sense', \"Schindler's List\", 'Braveheart') (59, 50, 48, 40, 37)\n"
     ]
    },
    {
     "output_type": "display_data",
     "data": {
      "text/plain": [
       "<Figure size 432x288 with 1 Axes>"
      ],
      "image/png": "[encoded data removed]"
     },
     "metadata": {
      "needs_background": "light"
     }
    }
   ],
   "metadata": {}
  }
 ],
 "metadata": {
  "kernelspec": {
   "name": "python3",
   "display_name": "Python 3.9.1 64-bit ('base': conda)"
  },
  "language_info": {
   "codemirror_mode": {
    "name": "ipython",
    "version": 3
   },
   "file_extension": ".py",
   "mimetype": "text/x-python",
   "name": "python",
   "nbconvert_exporter": "python",
   "pygments_lexer": "ipython3",
   "version": "3.9.1"
  },
  "interpreter": {
   "hash": "e329eaacdde1c3f16b1d348b966d5b9ad2a51ea4006f452504e74c885ba70bb5"
  }
 },
 "nbformat": 4,
 "nbformat_minor": 5
}