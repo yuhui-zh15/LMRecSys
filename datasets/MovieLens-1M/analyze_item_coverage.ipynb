{
 "cells": [
  {
   "cell_type": "code",
   "execution_count": 1,
   "id": "0d29c247",
   "metadata": {},
   "outputs": [],
   "source": [
    "import json"
   ]
  },
  {
   "cell_type": "code",
   "execution_count": 2,
   "id": "a2e8b9a3",
   "metadata": {},
   "outputs": [],
   "source": [
    "data = [json.loads(line) for line in open('data.jsonl')]"
   ]
  },
  {
   "cell_type": "code",
   "execution_count": 10,
   "id": "545a4840",
   "metadata": {},
   "outputs": [
    {
     "name": "stdout",
     "output_type": "stream",
     "text": [
      "3483 1670 1664 1661 1657\n"
     ]
    }
   ],
   "source": [
    "# 50 training, next 1 dev, next 1 test\n",
    "data = [json.loads(line) for line in open('data.jsonl')]\n",
    "for item in data: item['ids'] = item['ids'][:52]\n",
    "train_ids = set([id for item in data for id in item['ids'][:-2]])\n",
    "dev_ids = set([id for item in data for id in item['ids'][-2:-1]])\n",
    "test_ids = set([id for item in data for id in item['ids'][-1:]])\n",
    "print(len(train_ids), len(dev_ids), len(dev_ids & train_ids), len(test_ids), len(test_ids & train_ids))"
   ]
  },
  {
   "cell_type": "code",
   "execution_count": 11,
   "id": "5b867b3a",
   "metadata": {},
   "outputs": [
    {
     "name": "stdout",
     "output_type": "stream",
     "text": [
      "3108 1282 1256 1263 1228\n"
     ]
    }
   ],
   "source": [
    "# 10 training, next 1 dev, next 1 test\n",
    "data = [json.loads(line) for line in open('data.jsonl')]\n",
    "for item in data: item['ids'] = item['ids'][:10]\n",
    "train_ids = set([id for item in data for id in item['ids'][:-2]])\n",
    "dev_ids = set([id for item in data for id in item['ids'][-2:-1]])\n",
    "test_ids = set([id for item in data for id in item['ids'][-1:]])\n",
    "print(len(train_ids), len(dev_ids), len(dev_ids & train_ids), len(test_ids), len(test_ids & train_ids))"
   ]
  },
  {
   "cell_type": "code",
   "execution_count": 12,
   "id": "41f3b604",
   "metadata": {},
   "outputs": [
    {
     "name": "stdout",
     "output_type": "stream",
     "text": [
      "2530 1777 1586 1821 1633\n"
     ]
    }
   ],
   "source": [
    "# 5 training, next 1 dev, next 1 test\n",
    "data = [json.loads(line) for line in open('data.jsonl')]\n",
    "for item in data: item['ids'] = item['ids'][:5]\n",
    "train_ids = set([id for item in data for id in item['ids'][:-2]])\n",
    "dev_ids = set([id for item in data for id in item['ids'][-2:-1]])\n",
    "test_ids = set([id for item in data for id in item['ids'][-1:]])\n",
    "print(len(train_ids), len(dev_ids), len(dev_ids & train_ids), len(test_ids), len(test_ids & train_ids))"
   ]
  },
  {
   "cell_type": "code",
   "execution_count": null,
   "id": "b587c247",
   "metadata": {},
   "outputs": [],
   "source": []
  }
 ],
 "metadata": {
  "kernelspec": {
   "display_name": "conda_pytorch_latest_p36",
   "language": "python",
   "name": "conda_pytorch_latest_p36"
  },
  "language_info": {
   "codemirror_mode": {
    "name": "ipython",
    "version": 3
   },
   "file_extension": ".py",
   "mimetype": "text/x-python",
   "name": "python",
   "nbconvert_exporter": "python",
   "pygments_lexer": "ipython3",
   "version": "3.6.13"
  }
 },
 "nbformat": 4,
 "nbformat_minor": 5
}
