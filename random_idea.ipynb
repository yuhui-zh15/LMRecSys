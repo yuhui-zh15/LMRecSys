{
 "cells": [
  {
   "cell_type": "code",
   "execution_count": 15,
   "source": [
    "import datasets\n",
    "import numpy as np\n",
    "from transformers import AutoTokenizer, AutoModelForMaskedLM\n",
    "import matplotlib.pyplot as plt\n",
    "from tqdm import trange\n",
    "import random"
   ],
   "outputs": [],
   "metadata": {}
  },
  {
   "cell_type": "code",
   "execution_count": 2,
   "source": [
    "data = datasets.load_dataset('yelp_review_full')"
   ],
   "outputs": [
    {
     "output_type": "stream",
     "name": "stderr",
     "text": [
      "Reusing dataset yelp_review_full (/home/ubuntu/.cache/huggingface/datasets/yelp_review_full/yelp_review_full/1.0.0/13c31a618ba62568ec8572a222a283dfc29a6517776a3ac5945fb508877dde43)\n"
     ]
    }
   ],
   "metadata": {}
  },
  {
   "cell_type": "code",
   "execution_count": 3,
   "source": [
    "data"
   ],
   "outputs": [
    {
     "output_type": "execute_result",
     "data": {
      "text/plain": [
       "DatasetDict({\n",
       "    train: Dataset({\n",
       "        features: ['label', 'text'],\n",
       "        num_rows: 650000\n",
       "    })\n",
       "    test: Dataset({\n",
       "        features: ['label', 'text'],\n",
       "        num_rows: 50000\n",
       "    })\n",
       "})"
      ]
     },
     "metadata": {},
     "execution_count": 3
    }
   ],
   "metadata": {}
  },
  {
   "cell_type": "code",
   "execution_count": 13,
   "source": [
    "data['test'][-4]"
   ],
   "outputs": [
    {
     "output_type": "execute_result",
     "data": {
      "text/plain": [
       "{'label': 4,\n",
       " 'text': 'Great ambience. Great drinks. Great food. I love this place!'}"
      ]
     },
     "metadata": {},
     "execution_count": 13
    }
   ],
   "metadata": {}
  },
  {
   "cell_type": "code",
   "execution_count": 9,
   "source": [
    "tokenizer = AutoTokenizer.from_pretrained('roberta-large')\n",
    "model = AutoModelForMaskedLM.from_pretrained('roberta-large')"
   ],
   "outputs": [],
   "metadata": {}
  },
  {
   "cell_type": "code",
   "execution_count": 30,
   "source": [
    "embs = []\n",
    "labels = []\n",
    "for i in trange(1):\n",
    "    item = data['train'][i]\n",
    "    input_str = f'It was {tokenizer.mask_token}. {item[\"text\"]}'\n",
    "    inputs = tokenizer(input_str, return_tensors='pt', truncation=True)\n",
    "    outputs = model(**inputs)\n",
    "    assert(inputs['input_ids'][0, 3] == tokenizer.mask_token_id)\n",
    "    emb = outputs.logits[0, 3]\n",
    "    embs.append(emb.detach().numpy())\n",
    "    labels.append(item['label'])\n"
   ],
   "outputs": [
    {
     "output_type": "stream",
     "name": "stderr",
     "text": [
      "100%|██████████| 1/1 [00:00<00:00,  2.85it/s]\n"
     ]
    }
   ],
   "metadata": {}
  },
  {
   "cell_type": "code",
   "execution_count": 34,
   "source": [
    "random.seed(1234)\n",
    "in_context_examples = {}\n",
    "for i in range(50):\n",
    "    item = data['train'][i]\n",
    "    if len(item['text'].split()) < 50:\n",
    "        in_context_examples[item['label']] = item['text']\n",
    "verbalizers = ['terrible', 'bad', 'okay', 'good', 'great']\n",
    "in_context_examples = [f'It was {verbalizers[label]}. {in_context_examples[label]}' for label in in_context_examples]\n",
    "in_context_examples = ' / '.join(in_context_examples)\n",
    "in_context_examples"
   ],
   "outputs": [
    {
     "output_type": "execute_result",
     "data": {
      "text/plain": [
       "\"It was great. Tonya is super sweet and the front desk people are very helpful / It was okay. Good beer selection. Understaffed for a light Monday night crowd, it wasn't her fault she was the only server. But it took about an hour to get our sandwiches. Mine was one of the best reubens I've ever had. / It was bad. Average run of the mill store.  Associates are young teens and they really don't know where anything is.  Luckily I am able to get around to find everything.  Found my puppy treats and moved on. / It was terrible. Terrible. Preordered my tires and when I arrived they couldn't find the order anywhere. Once we got through that process I waited over 2 hours for them to be put on... I was originally told it would take 30 mins. Slow, over priced, I'll go elsewhere next time. / It was good. Great breakfast, good price. You might have to stand outside in line though, so I don't really recommend winter time to go. lol. Very friendly service, interesting coffee mugs. They have great deserts and such also. Bring your cash though as they dont' take cards.\""
      ]
     },
     "metadata": {},
     "execution_count": 34
    }
   ],
   "metadata": {}
  },
  {
   "cell_type": "code",
   "execution_count": 35,
   "source": [
    "embs_test = []\n",
    "labels_test = []\n",
    "for i in trange(200):\n",
    "    item = data['test'][i]\n",
    "    input_str = f'It was {tokenizer.mask_token}. {item[\"text\"]} / {in_context_examples}'\n",
    "    inputs = tokenizer(input_str, return_tensors='pt', truncation=True)\n",
    "    outputs = model(**inputs)\n",
    "    assert(inputs['input_ids'][0, 3] == tokenizer.mask_token_id)\n",
    "    emb = outputs.logits[0, 3]\n",
    "    embs_test.append(emb.detach().numpy())\n",
    "    labels_test.append(item['label'])\n"
   ],
   "outputs": [
    {
     "output_type": "stream",
     "name": "stderr",
     "text": [
      "  4%|▎         | 7/200 [00:06<02:47,  1.15it/s]"
     ]
    }
   ],
   "metadata": {}
  },
  {
   "cell_type": "code",
   "execution_count": 28,
   "source": [
    "idxs = [tokenizer.vocab['Ġ' + word] for word in ['terrible', 'bad', 'okay', 'good', 'great']]\n",
    "preds_test = [emb[idxs].argmax() for emb in embs_test]\n",
    "assert(len(preds_test) == len(embs_test) == len(labels_test))\n",
    "acc = (np.array(preds_test) == np.array(labels_test)).mean()\n",
    "print(acc)\n",
    "print(preds_test)"
   ],
   "outputs": [
    {
     "output_type": "stream",
     "name": "stdout",
     "text": [
      "0.445\n",
      "[0, 0, 0, 0, 0, 2, 3, 4, 4, 3, 4, 4, 0, 2, 4, 4, 4, 0, 4, 0, 4, 2, 0, 0, 3, 0, 1, 4, 4, 1, 3, 3, 1, 4, 0, 0, 4, 4, 0, 4, 0, 1, 3, 0, 4, 0, 0, 0, 3, 0, 4, 3, 4, 0, 3, 4, 0, 1, 4, 0, 4, 1, 0, 4, 4, 4, 0, 4, 0, 2, 4, 0, 4, 4, 4, 4, 0, 4, 2, 4, 0, 0, 2, 4, 2, 0, 4, 4, 0, 4, 1, 4, 4, 4, 3, 3, 1, 4, 0, 4, 0, 4, 4, 2, 0, 0, 4, 3, 1, 4, 2, 4, 0, 4, 0, 0, 4, 2, 3, 4, 4, 3, 2, 3, 4, 4, 4, 4, 4, 3, 4, 4, 4, 4, 3, 1, 2, 4, 1, 1, 2, 0, 4, 4, 4, 0, 0, 0, 0, 3, 4, 4, 4, 4, 0, 4, 0, 0, 0, 3, 2, 2, 4, 0, 4, 0, 4, 3, 3, 4, 3, 3, 0, 4, 0, 0, 3, 0, 4, 4, 4, 4, 3, 0, 0, 0, 1, 0, 4, 1, 0, 3, 4, 4, 2, 0, 2, 2, 0, 4]\n"
     ]
    }
   ],
   "metadata": {}
  },
  {
   "cell_type": "code",
   "execution_count": 48,
   "source": [
    "embs = np.array(embs)\n",
    "labels = np.array(labels)\n",
    "embs_test = np.array(embs_test)\n",
    "labels_test = np.array(labels_test)"
   ],
   "outputs": [],
   "metadata": {}
  },
  {
   "cell_type": "code",
   "execution_count": 34,
   "source": [
    "from sklearn.decomposition import PCA\n",
    "pca = PCA(n_components=2)\n",
    "principalComponents = pca.fit_transform(embs)\n"
   ],
   "outputs": [],
   "metadata": {}
  },
  {
   "cell_type": "code",
   "execution_count": 90,
   "source": [
    "from sklearn import svm\n",
    "from sklearn.linear_model import SGDClassifier\n",
    "from sklearn.preprocessing import StandardScaler\n",
    "from sklearn.pipeline import make_pipeline\n",
    "from sklearn.neural_network import MLPClassifier\n",
    "from sklearn.ensemble import AdaBoostClassifier\n",
    "\n",
    "clf = AdaBoostClassifier(n_estimators=100, random_state=0)\n",
    "# clf = MLPClassifier(random_state=1, max_iter=300)\n",
    "# clf = make_pipeline(StandardScaler(), SGDClassifier(max_iter=1000, tol=1e-3))\n",
    "# clf = svm.LinearSVC()\n",
    "clf.fit(embs, labels)\n",
    "preds = clf.predict(embs)\n",
    "acc = (preds == labels).mean()\n",
    "print(acc)"
   ],
   "outputs": [
    {
     "output_type": "stream",
     "name": "stdout",
     "text": [
      "0.64\n"
     ]
    }
   ],
   "metadata": {}
  },
  {
   "cell_type": "code",
   "execution_count": 91,
   "source": [
    "preds_test = clf.predict(embs_test)\n",
    "acc = (preds_test == labels_test).mean()\n",
    "print(preds_test)\n",
    "print(acc)"
   ],
   "outputs": [
    {
     "output_type": "stream",
     "name": "stdout",
     "text": [
      "[1 1 1 1 1 1 4 4 4 4 4 4 1 1 4 4 4 1 4 1 1 1 1 1 4 1 1 4 4 1 4 4 1 4 1 1 4\n",
      " 4 1 4 1 1 4 1 1 1 1 1 1 1 4 4 4 1 4 4 4 4 4 1 4 1 1 4 4 4 1 4 1 4 4 1 4 4\n",
      " 4 2 1 4 1 4 1 1 1 4 1 1 4 4 1 4 1 4 4 4 4 1 4 4 1 4 1 1 4 4 1 1 1 4 1 4 1\n",
      " 4 1 4 1 1 4 4 4 4 4 4 4 4 4 4 4 4 4 4 4 1 4 4 1 2 4 4 1 1 4 1 4 4 1 1 1 1\n",
      " 1 1 1 4 4 4 1 4 1 1 1 4 1 4 1 1 4 1 4 4 4 4 4 4 1 2 1 1 1 1 4 4 4 4 4 2 4\n",
      " 1 1 1 4 4 4 2 1 4 1 1 1 2 1 4]\n",
      "0.32\n"
     ]
    }
   ],
   "metadata": {}
  },
  {
   "cell_type": "code",
   "execution_count": 69,
   "source": [
    "x, y = zip(*pca.transform(embs))\n",
    "plt.scatter(x, y, c=labels)"
   ],
   "outputs": [
    {
     "output_type": "execute_result",
     "data": {
      "text/plain": [
       "<matplotlib.collections.PathCollection at 0x7f6b8af8a2b0>"
      ]
     },
     "metadata": {},
     "execution_count": 69
    },
    {
     "output_type": "display_data",
     "data": {
      "text/plain": [
       "<Figure size 432x288 with 1 Axes>"
      ],
      "image/svg+xml": "<?xml version=\"1.0\" encoding=\"utf-8\" standalone=\"no\"?>\n<!DOCTYPE svg PUBLIC \"-//W3C//DTD SVG 1.1//EN\"\n  \"http://www.w3.org/Graphics/SVG/1.1/DTD/svg11.dtd\">\n<svg height=\"248.518125pt\" version=\"1.1\" viewBox=\"0 0 383.667187 248.518125\" width=\"383.667187pt\" xmlns=\"http://www.w3.org/2000/svg\" xmlns:xlink=\"http://www.w3.org/1999/xlink\">\n <metadata>\n  <rdf:RDF xmlns:cc=\"http://creativecommons.org/ns#\" xmlns:dc=\"http://purl.org/dc/elements/1.1/\" xmlns:rdf=\"http://www.w3.org/1999/02/22-rdf-syntax-ns#\">\n   <cc:Work>\n    <dc:type rdf:resource=\"http://purl.org/dc/dcmitype/StillImage\"/>\n    <dc:date>2021-08-19T07:03:59.583575</dc:date>\n    <dc:format>image/svg+xml</dc:format>\n    <dc:creator>\n     <cc:Agent>\n      <dc:title>Matplotlib v3.4.2, https://matplotlib.org/</dc:title>\n     </cc:Agent>\n    </dc:creator>\n   </cc:Work>\n  </rdf:RDF>\n </metadata>\n <defs>\n  <style type=\"text/css\">*{stroke-linecap:butt;stroke-linejoin:round;}</style>\n </defs>\n <g id=\"figure_1\">\n  <g id=\"patch_1\">\n   <path d=\"M 0 248.518125 \nL 383.667187 248.518125 \nL 383.667187 0 \nL 0 0 \nz\n\" style=\"fill:none;\"/>\n  </g>\n  <g id=\"axes_1\">\n   <g id=\"patch_2\">\n    <path d=\"M 41.667188 224.64 \nL 376.467188 224.64 \nL 376.467188 7.2 \nL 41.667188 7.2 \nz\n\" style=\"fill:#ffffff;\"/>\n   </g>\n   <g id=\"PathCollection_1\">\n    <defs>\n     <path d=\"M 0 3 \nC 0.795609 3 1.55874 2.683901 2.12132 2.12132 \nC 2.683901 1.55874 3 0.795609 3 -0 \nC 3 -0.795609 2.683901 -1.55874 2.12132 -2.12132 \nC 1.55874 -2.683901 0.795609 -3 0 -3 \nC -0.795609 -3 -1.55874 -2.683901 -2.12132 -2.12132 \nC -2.683901 -1.55874 -3 -0.795609 -3 0 \nC -3 0.795609 -2.683901 1.55874 -2.12132 2.12132 \nC -1.55874 2.683901 -0.795609 3 0 3 \nz\n\" id=\"C0_0_9ca5d65294\"/>\n    </defs>\n    <g clip-path=\"url(#pe8eeeb9b9b)\">\n     <use style=\"fill:#fde725;stroke:#fde725;\" x=\"257.030834\" xlink:href=\"#C0_0_9ca5d65294\" y=\"121.80421\"/>\n    </g>\n    <g clip-path=\"url(#pe8eeeb9b9b)\">\n     <use style=\"fill:#3b528b;stroke:#3b528b;\" x=\"128.866997\" xlink:href=\"#C0_0_9ca5d65294\" y=\"193.540349\"/>\n    </g>\n    <g clip-path=\"url(#pe8eeeb9b9b)\">\n     <use style=\"fill:#5ec962;stroke:#5ec962;\" x=\"149.73357\" xlink:href=\"#C0_0_9ca5d65294\" y=\"210.776741\"/>\n    </g>\n    <g clip-path=\"url(#pe8eeeb9b9b)\">\n     <use style=\"fill:#5ec962;stroke:#5ec962;\" x=\"146.527142\" xlink:href=\"#C0_0_9ca5d65294\" y=\"214.756364\"/>\n    </g>\n    <g clip-path=\"url(#pe8eeeb9b9b)\">\n     <use style=\"fill:#440154;stroke:#440154;\" x=\"246.379634\" xlink:href=\"#C0_0_9ca5d65294\" y=\"147.895277\"/>\n    </g>\n    <g clip-path=\"url(#pe8eeeb9b9b)\">\n     <use style=\"fill:#fde725;stroke:#fde725;\" x=\"113.85798\" xlink:href=\"#C0_0_9ca5d65294\" y=\"210.125067\"/>\n    </g>\n    <g clip-path=\"url(#pe8eeeb9b9b)\">\n     <use style=\"fill:#fde725;stroke:#fde725;\" x=\"296.870307\" xlink:href=\"#C0_0_9ca5d65294\" y=\"189.412238\"/>\n    </g>\n    <g clip-path=\"url(#pe8eeeb9b9b)\">\n     <use style=\"fill:#440154;stroke:#440154;\" x=\"227.558111\" xlink:href=\"#C0_0_9ca5d65294\" y=\"114.850191\"/>\n    </g>\n    <g clip-path=\"url(#pe8eeeb9b9b)\">\n     <use style=\"fill:#3b528b;stroke:#3b528b;\" x=\"138.869376\" xlink:href=\"#C0_0_9ca5d65294\" y=\"17.083636\"/>\n    </g>\n    <g clip-path=\"url(#pe8eeeb9b9b)\">\n     <use style=\"fill:#21918c;stroke:#21918c;\" x=\"131.061339\" xlink:href=\"#C0_0_9ca5d65294\" y=\"66.777571\"/>\n    </g>\n    <g clip-path=\"url(#pe8eeeb9b9b)\">\n     <use style=\"fill:#440154;stroke:#440154;\" x=\"210.93019\" xlink:href=\"#C0_0_9ca5d65294\" y=\"101.311963\"/>\n    </g>\n    <g clip-path=\"url(#pe8eeeb9b9b)\">\n     <use style=\"fill:#440154;stroke:#440154;\" x=\"205.484553\" xlink:href=\"#C0_0_9ca5d65294\" y=\"87.44253\"/>\n    </g>\n    <g clip-path=\"url(#pe8eeeb9b9b)\">\n     <use style=\"fill:#5ec962;stroke:#5ec962;\" x=\"238.237327\" xlink:href=\"#C0_0_9ca5d65294\" y=\"102.806507\"/>\n    </g>\n    <g clip-path=\"url(#pe8eeeb9b9b)\">\n     <use style=\"fill:#3b528b;stroke:#3b528b;\" x=\"217.937897\" xlink:href=\"#C0_0_9ca5d65294\" y=\"101.220703\"/>\n    </g>\n    <g clip-path=\"url(#pe8eeeb9b9b)\">\n     <use style=\"fill:#fde725;stroke:#fde725;\" x=\"361.249006\" xlink:href=\"#C0_0_9ca5d65294\" y=\"65.643915\"/>\n    </g>\n    <g clip-path=\"url(#pe8eeeb9b9b)\">\n     <use style=\"fill:#fde725;stroke:#fde725;\" x=\"159.369214\" xlink:href=\"#C0_0_9ca5d65294\" y=\"126.741419\"/>\n    </g>\n    <g clip-path=\"url(#pe8eeeb9b9b)\">\n     <use style=\"fill:#fde725;stroke:#fde725;\" x=\"151.024986\" xlink:href=\"#C0_0_9ca5d65294\" y=\"103.311299\"/>\n    </g>\n    <g clip-path=\"url(#pe8eeeb9b9b)\">\n     <use style=\"fill:#fde725;stroke:#fde725;\" x=\"120.760633\" xlink:href=\"#C0_0_9ca5d65294\" y=\"133.208124\"/>\n    </g>\n    <g clip-path=\"url(#pe8eeeb9b9b)\">\n     <use style=\"fill:#fde725;stroke:#fde725;\" x=\"95.79357\" xlink:href=\"#C0_0_9ca5d65294\" y=\"95.615688\"/>\n    </g>\n    <g clip-path=\"url(#pe8eeeb9b9b)\">\n     <use style=\"fill:#fde725;stroke:#fde725;\" x=\"295.160561\" xlink:href=\"#C0_0_9ca5d65294\" y=\"110.334395\"/>\n    </g>\n    <g clip-path=\"url(#pe8eeeb9b9b)\">\n     <use style=\"fill:#5ec962;stroke:#5ec962;\" x=\"210.403876\" xlink:href=\"#C0_0_9ca5d65294\" y=\"101.436619\"/>\n    </g>\n    <g clip-path=\"url(#pe8eeeb9b9b)\">\n     <use style=\"fill:#21918c;stroke:#21918c;\" x=\"192.482804\" xlink:href=\"#C0_0_9ca5d65294\" y=\"39.146862\"/>\n    </g>\n    <g clip-path=\"url(#pe8eeeb9b9b)\">\n     <use style=\"fill:#3b528b;stroke:#3b528b;\" x=\"198.040544\" xlink:href=\"#C0_0_9ca5d65294\" y=\"27.625998\"/>\n    </g>\n    <g clip-path=\"url(#pe8eeeb9b9b)\">\n     <use style=\"fill:#fde725;stroke:#fde725;\" x=\"223.794482\" xlink:href=\"#C0_0_9ca5d65294\" y=\"124.513738\"/>\n    </g>\n    <g clip-path=\"url(#pe8eeeb9b9b)\">\n     <use style=\"fill:#440154;stroke:#440154;\" x=\"275.632162\" xlink:href=\"#C0_0_9ca5d65294\" y=\"70.130203\"/>\n    </g>\n    <g clip-path=\"url(#pe8eeeb9b9b)\">\n     <use style=\"fill:#440154;stroke:#440154;\" x=\"140.470329\" xlink:href=\"#C0_0_9ca5d65294\" y=\"101.235669\"/>\n    </g>\n    <g clip-path=\"url(#pe8eeeb9b9b)\">\n     <use style=\"fill:#440154;stroke:#440154;\" x=\"253.434478\" xlink:href=\"#C0_0_9ca5d65294\" y=\"88.90694\"/>\n    </g>\n    <g clip-path=\"url(#pe8eeeb9b9b)\">\n     <use style=\"fill:#3b528b;stroke:#3b528b;\" x=\"219.373068\" xlink:href=\"#C0_0_9ca5d65294\" y=\"114.908025\"/>\n    </g>\n    <g clip-path=\"url(#pe8eeeb9b9b)\">\n     <use style=\"fill:#3b528b;stroke:#3b528b;\" x=\"56.885369\" xlink:href=\"#C0_0_9ca5d65294\" y=\"209.601132\"/>\n    </g>\n    <g clip-path=\"url(#pe8eeeb9b9b)\">\n     <use style=\"fill:#5ec962;stroke:#5ec962;\" x=\"72.621757\" xlink:href=\"#C0_0_9ca5d65294\" y=\"163.905951\"/>\n    </g>\n    <g clip-path=\"url(#pe8eeeb9b9b)\">\n     <use style=\"fill:#3b528b;stroke:#3b528b;\" x=\"162.508872\" xlink:href=\"#C0_0_9ca5d65294\" y=\"78.13943\"/>\n    </g>\n    <g clip-path=\"url(#pe8eeeb9b9b)\">\n     <use style=\"fill:#3b528b;stroke:#3b528b;\" x=\"218.713884\" xlink:href=\"#C0_0_9ca5d65294\" y=\"106.602145\"/>\n    </g>\n    <g clip-path=\"url(#pe8eeeb9b9b)\">\n     <use style=\"fill:#5ec962;stroke:#5ec962;\" x=\"215.284986\" xlink:href=\"#C0_0_9ca5d65294\" y=\"102.909232\"/>\n    </g>\n    <g clip-path=\"url(#pe8eeeb9b9b)\">\n     <use style=\"fill:#21918c;stroke:#21918c;\" x=\"116.895259\" xlink:href=\"#C0_0_9ca5d65294\" y=\"142.013442\"/>\n    </g>\n    <g clip-path=\"url(#pe8eeeb9b9b)\">\n     <use style=\"fill:#fde725;stroke:#fde725;\" x=\"149.151866\" xlink:href=\"#C0_0_9ca5d65294\" y=\"126.750414\"/>\n    </g>\n    <g clip-path=\"url(#pe8eeeb9b9b)\">\n     <use style=\"fill:#5ec962;stroke:#5ec962;\" x=\"141.448069\" xlink:href=\"#C0_0_9ca5d65294\" y=\"115.642016\"/>\n    </g>\n    <g clip-path=\"url(#pe8eeeb9b9b)\">\n     <use style=\"fill:#fde725;stroke:#fde725;\" x=\"143.101754\" xlink:href=\"#C0_0_9ca5d65294\" y=\"121.267327\"/>\n    </g>\n    <g clip-path=\"url(#pe8eeeb9b9b)\">\n     <use style=\"fill:#21918c;stroke:#21918c;\" x=\"235.238165\" xlink:href=\"#C0_0_9ca5d65294\" y=\"40.551235\"/>\n    </g>\n    <g clip-path=\"url(#pe8eeeb9b9b)\">\n     <use style=\"fill:#fde725;stroke:#fde725;\" x=\"217.336786\" xlink:href=\"#C0_0_9ca5d65294\" y=\"71.257834\"/>\n    </g>\n    <g clip-path=\"url(#pe8eeeb9b9b)\">\n     <use style=\"fill:#5ec962;stroke:#5ec962;\" x=\"134.654351\" xlink:href=\"#C0_0_9ca5d65294\" y=\"91.11865\"/>\n    </g>\n    <g clip-path=\"url(#pe8eeeb9b9b)\">\n     <use style=\"fill:#fde725;stroke:#fde725;\" x=\"243.739241\" xlink:href=\"#C0_0_9ca5d65294\" y=\"80.146254\"/>\n    </g>\n    <g clip-path=\"url(#pe8eeeb9b9b)\">\n     <use style=\"fill:#fde725;stroke:#fde725;\" x=\"285.142033\" xlink:href=\"#C0_0_9ca5d65294\" y=\"96.18566\"/>\n    </g>\n    <g clip-path=\"url(#pe8eeeb9b9b)\">\n     <use style=\"fill:#fde725;stroke:#fde725;\" x=\"228.030833\" xlink:href=\"#C0_0_9ca5d65294\" y=\"95.642595\"/>\n    </g>\n    <g clip-path=\"url(#pe8eeeb9b9b)\">\n     <use style=\"fill:#fde725;stroke:#fde725;\" x=\"134.073351\" xlink:href=\"#C0_0_9ca5d65294\" y=\"106.049356\"/>\n    </g>\n    <g clip-path=\"url(#pe8eeeb9b9b)\">\n     <use style=\"fill:#3b528b;stroke:#3b528b;\" x=\"249.044493\" xlink:href=\"#C0_0_9ca5d65294\" y=\"45.610117\"/>\n    </g>\n    <g clip-path=\"url(#pe8eeeb9b9b)\">\n     <use style=\"fill:#21918c;stroke:#21918c;\" x=\"219.007081\" xlink:href=\"#C0_0_9ca5d65294\" y=\"70.931405\"/>\n    </g>\n    <g clip-path=\"url(#pe8eeeb9b9b)\">\n     <use style=\"fill:#fde725;stroke:#fde725;\" x=\"79.020992\" xlink:href=\"#C0_0_9ca5d65294\" y=\"157.124723\"/>\n    </g>\n    <g clip-path=\"url(#pe8eeeb9b9b)\">\n     <use style=\"fill:#440154;stroke:#440154;\" x=\"226.892671\" xlink:href=\"#C0_0_9ca5d65294\" y=\"65.987904\"/>\n    </g>\n    <g clip-path=\"url(#pe8eeeb9b9b)\">\n     <use style=\"fill:#5ec962;stroke:#5ec962;\" x=\"135.750101\" xlink:href=\"#C0_0_9ca5d65294\" y=\"117.46541\"/>\n    </g>\n    <g clip-path=\"url(#pe8eeeb9b9b)\">\n     <use style=\"fill:#3b528b;stroke:#3b528b;\" x=\"146.349983\" xlink:href=\"#C0_0_9ca5d65294\" y=\"127.369717\"/>\n    </g>\n   </g>\n   <g id=\"matplotlib.axis_1\">\n    <g id=\"xtick_1\">\n     <g id=\"line2d_1\">\n      <defs>\n       <path d=\"M 0 0 \nL 0 3.5 \n\" id=\"m65bf6b5f85\" style=\"stroke:#000000;stroke-width:0.8;\"/>\n      </defs>\n      <g>\n       <use style=\"stroke:#000000;stroke-width:0.8;\" x=\"50.859209\" xlink:href=\"#m65bf6b5f85\" y=\"224.64\"/>\n      </g>\n     </g>\n     <g id=\"text_1\">\n      <!-- −750 -->\n      <g transform=\"translate(37.125615 239.238437)scale(0.1 -0.1)\">\n       <defs>\n        <path d=\"M 678 2272 \nL 4684 2272 \nL 4684 1741 \nL 678 1741 \nL 678 2272 \nz\n\" id=\"DejaVuSans-2212\" transform=\"scale(0.015625)\"/>\n        <path d=\"M 525 4666 \nL 3525 4666 \nL 3525 4397 \nL 1831 0 \nL 1172 0 \nL 2766 4134 \nL 525 4134 \nL 525 4666 \nz\n\" id=\"DejaVuSans-37\" transform=\"scale(0.015625)\"/>\n        <path d=\"M 691 4666 \nL 3169 4666 \nL 3169 4134 \nL 1269 4134 \nL 1269 2991 \nQ 1406 3038 1543 3061 \nQ 1681 3084 1819 3084 \nQ 2600 3084 3056 2656 \nQ 3513 2228 3513 1497 \nQ 3513 744 3044 326 \nQ 2575 -91 1722 -91 \nQ 1428 -91 1123 -41 \nQ 819 9 494 109 \nL 494 744 \nQ 775 591 1075 516 \nQ 1375 441 1709 441 \nQ 2250 441 2565 725 \nQ 2881 1009 2881 1497 \nQ 2881 1984 2565 2268 \nQ 2250 2553 1709 2553 \nQ 1456 2553 1204 2497 \nQ 953 2441 691 2322 \nL 691 4666 \nz\n\" id=\"DejaVuSans-35\" transform=\"scale(0.015625)\"/>\n        <path d=\"M 2034 4250 \nQ 1547 4250 1301 3770 \nQ 1056 3291 1056 2328 \nQ 1056 1369 1301 889 \nQ 1547 409 2034 409 \nQ 2525 409 2770 889 \nQ 3016 1369 3016 2328 \nQ 3016 3291 2770 3770 \nQ 2525 4250 2034 4250 \nz\nM 2034 4750 \nQ 2819 4750 3233 4129 \nQ 3647 3509 3647 2328 \nQ 3647 1150 3233 529 \nQ 2819 -91 2034 -91 \nQ 1250 -91 836 529 \nQ 422 1150 422 2328 \nQ 422 3509 836 4129 \nQ 1250 4750 2034 4750 \nz\n\" id=\"DejaVuSans-30\" transform=\"scale(0.015625)\"/>\n       </defs>\n       <use xlink:href=\"#DejaVuSans-2212\"/>\n       <use x=\"83.789062\" xlink:href=\"#DejaVuSans-37\"/>\n       <use x=\"147.412109\" xlink:href=\"#DejaVuSans-35\"/>\n       <use x=\"211.035156\" xlink:href=\"#DejaVuSans-30\"/>\n      </g>\n     </g>\n    </g>\n    <g id=\"xtick_2\">\n     <g id=\"line2d_2\">\n      <g>\n       <use style=\"stroke:#000000;stroke-width:0.8;\" x=\"95.131316\" xlink:href=\"#m65bf6b5f85\" y=\"224.64\"/>\n      </g>\n     </g>\n     <g id=\"text_2\">\n      <!-- −500 -->\n      <g transform=\"translate(81.397722 239.238437)scale(0.1 -0.1)\">\n       <use xlink:href=\"#DejaVuSans-2212\"/>\n       <use x=\"83.789062\" xlink:href=\"#DejaVuSans-35\"/>\n       <use x=\"147.412109\" xlink:href=\"#DejaVuSans-30\"/>\n       <use x=\"211.035156\" xlink:href=\"#DejaVuSans-30\"/>\n      </g>\n     </g>\n    </g>\n    <g id=\"xtick_3\">\n     <g id=\"line2d_3\">\n      <g>\n       <use style=\"stroke:#000000;stroke-width:0.8;\" x=\"139.403423\" xlink:href=\"#m65bf6b5f85\" y=\"224.64\"/>\n      </g>\n     </g>\n     <g id=\"text_3\">\n      <!-- −250 -->\n      <g transform=\"translate(125.669829 239.238437)scale(0.1 -0.1)\">\n       <defs>\n        <path d=\"M 1228 531 \nL 3431 531 \nL 3431 0 \nL 469 0 \nL 469 531 \nQ 828 903 1448 1529 \nQ 2069 2156 2228 2338 \nQ 2531 2678 2651 2914 \nQ 2772 3150 2772 3378 \nQ 2772 3750 2511 3984 \nQ 2250 4219 1831 4219 \nQ 1534 4219 1204 4116 \nQ 875 4013 500 3803 \nL 500 4441 \nQ 881 4594 1212 4672 \nQ 1544 4750 1819 4750 \nQ 2544 4750 2975 4387 \nQ 3406 4025 3406 3419 \nQ 3406 3131 3298 2873 \nQ 3191 2616 2906 2266 \nQ 2828 2175 2409 1742 \nQ 1991 1309 1228 531 \nz\n\" id=\"DejaVuSans-32\" transform=\"scale(0.015625)\"/>\n       </defs>\n       <use xlink:href=\"#DejaVuSans-2212\"/>\n       <use x=\"83.789062\" xlink:href=\"#DejaVuSans-32\"/>\n       <use x=\"147.412109\" xlink:href=\"#DejaVuSans-35\"/>\n       <use x=\"211.035156\" xlink:href=\"#DejaVuSans-30\"/>\n      </g>\n     </g>\n    </g>\n    <g id=\"xtick_4\">\n     <g id=\"line2d_4\">\n      <g>\n       <use style=\"stroke:#000000;stroke-width:0.8;\" x=\"183.67553\" xlink:href=\"#m65bf6b5f85\" y=\"224.64\"/>\n      </g>\n     </g>\n     <g id=\"text_4\">\n      <!-- 0 -->\n      <g transform=\"translate(180.49428 239.238437)scale(0.1 -0.1)\">\n       <use xlink:href=\"#DejaVuSans-30\"/>\n      </g>\n     </g>\n    </g>\n    <g id=\"xtick_5\">\n     <g id=\"line2d_5\">\n      <g>\n       <use style=\"stroke:#000000;stroke-width:0.8;\" x=\"227.947637\" xlink:href=\"#m65bf6b5f85\" y=\"224.64\"/>\n      </g>\n     </g>\n     <g id=\"text_5\">\n      <!-- 250 -->\n      <g transform=\"translate(218.403887 239.238437)scale(0.1 -0.1)\">\n       <use xlink:href=\"#DejaVuSans-32\"/>\n       <use x=\"63.623047\" xlink:href=\"#DejaVuSans-35\"/>\n       <use x=\"127.246094\" xlink:href=\"#DejaVuSans-30\"/>\n      </g>\n     </g>\n    </g>\n    <g id=\"xtick_6\">\n     <g id=\"line2d_6\">\n      <g>\n       <use style=\"stroke:#000000;stroke-width:0.8;\" x=\"272.219744\" xlink:href=\"#m65bf6b5f85\" y=\"224.64\"/>\n      </g>\n     </g>\n     <g id=\"text_6\">\n      <!-- 500 -->\n      <g transform=\"translate(262.675994 239.238437)scale(0.1 -0.1)\">\n       <use xlink:href=\"#DejaVuSans-35\"/>\n       <use x=\"63.623047\" xlink:href=\"#DejaVuSans-30\"/>\n       <use x=\"127.246094\" xlink:href=\"#DejaVuSans-30\"/>\n      </g>\n     </g>\n    </g>\n    <g id=\"xtick_7\">\n     <g id=\"line2d_7\">\n      <g>\n       <use style=\"stroke:#000000;stroke-width:0.8;\" x=\"316.491851\" xlink:href=\"#m65bf6b5f85\" y=\"224.64\"/>\n      </g>\n     </g>\n     <g id=\"text_7\">\n      <!-- 750 -->\n      <g transform=\"translate(306.948101 239.238437)scale(0.1 -0.1)\">\n       <use xlink:href=\"#DejaVuSans-37\"/>\n       <use x=\"63.623047\" xlink:href=\"#DejaVuSans-35\"/>\n       <use x=\"127.246094\" xlink:href=\"#DejaVuSans-30\"/>\n      </g>\n     </g>\n    </g>\n    <g id=\"xtick_8\">\n     <g id=\"line2d_8\">\n      <g>\n       <use style=\"stroke:#000000;stroke-width:0.8;\" x=\"360.763958\" xlink:href=\"#m65bf6b5f85\" y=\"224.64\"/>\n      </g>\n     </g>\n     <g id=\"text_8\">\n      <!-- 1000 -->\n      <g transform=\"translate(348.038958 239.238437)scale(0.1 -0.1)\">\n       <defs>\n        <path d=\"M 794 531 \nL 1825 531 \nL 1825 4091 \nL 703 3866 \nL 703 4441 \nL 1819 4666 \nL 2450 4666 \nL 2450 531 \nL 3481 531 \nL 3481 0 \nL 794 0 \nL 794 531 \nz\n\" id=\"DejaVuSans-31\" transform=\"scale(0.015625)\"/>\n       </defs>\n       <use xlink:href=\"#DejaVuSans-31\"/>\n       <use x=\"63.623047\" xlink:href=\"#DejaVuSans-30\"/>\n       <use x=\"127.246094\" xlink:href=\"#DejaVuSans-30\"/>\n       <use x=\"190.869141\" xlink:href=\"#DejaVuSans-30\"/>\n      </g>\n     </g>\n    </g>\n   </g>\n   <g id=\"matplotlib.axis_2\">\n    <g id=\"ytick_1\">\n     <g id=\"line2d_9\">\n      <defs>\n       <path d=\"M 0 0 \nL -3.5 0 \n\" id=\"m2a673f573c\" style=\"stroke:#000000;stroke-width:0.8;\"/>\n      </defs>\n      <g>\n       <use style=\"stroke:#000000;stroke-width:0.8;\" x=\"41.667188\" xlink:href=\"#m2a673f573c\" y=\"194.053367\"/>\n      </g>\n     </g>\n     <g id=\"text_9\">\n      <!-- −100 -->\n      <g transform=\"translate(7.2 197.852586)scale(0.1 -0.1)\">\n       <use xlink:href=\"#DejaVuSans-2212\"/>\n       <use x=\"83.789062\" xlink:href=\"#DejaVuSans-31\"/>\n       <use x=\"147.412109\" xlink:href=\"#DejaVuSans-30\"/>\n       <use x=\"211.035156\" xlink:href=\"#DejaVuSans-30\"/>\n      </g>\n     </g>\n    </g>\n    <g id=\"ytick_2\">\n     <g id=\"line2d_10\">\n      <g>\n       <use style=\"stroke:#000000;stroke-width:0.8;\" x=\"41.667188\" xlink:href=\"#m2a673f573c\" y=\"148.702166\"/>\n      </g>\n     </g>\n     <g id=\"text_10\">\n      <!-- 0 -->\n      <g transform=\"translate(28.304688 152.501384)scale(0.1 -0.1)\">\n       <use xlink:href=\"#DejaVuSans-30\"/>\n      </g>\n     </g>\n    </g>\n    <g id=\"ytick_3\">\n     <g id=\"line2d_11\">\n      <g>\n       <use style=\"stroke:#000000;stroke-width:0.8;\" x=\"41.667188\" xlink:href=\"#m2a673f573c\" y=\"103.350964\"/>\n      </g>\n     </g>\n     <g id=\"text_11\">\n      <!-- 100 -->\n      <g transform=\"translate(15.579688 107.150183)scale(0.1 -0.1)\">\n       <use xlink:href=\"#DejaVuSans-31\"/>\n       <use x=\"63.623047\" xlink:href=\"#DejaVuSans-30\"/>\n       <use x=\"127.246094\" xlink:href=\"#DejaVuSans-30\"/>\n      </g>\n     </g>\n    </g>\n    <g id=\"ytick_4\">\n     <g id=\"line2d_12\">\n      <g>\n       <use style=\"stroke:#000000;stroke-width:0.8;\" x=\"41.667188\" xlink:href=\"#m2a673f573c\" y=\"57.999763\"/>\n      </g>\n     </g>\n     <g id=\"text_12\">\n      <!-- 200 -->\n      <g transform=\"translate(15.579688 61.798982)scale(0.1 -0.1)\">\n       <use xlink:href=\"#DejaVuSans-32\"/>\n       <use x=\"63.623047\" xlink:href=\"#DejaVuSans-30\"/>\n       <use x=\"127.246094\" xlink:href=\"#DejaVuSans-30\"/>\n      </g>\n     </g>\n    </g>\n    <g id=\"ytick_5\">\n     <g id=\"line2d_13\">\n      <g>\n       <use style=\"stroke:#000000;stroke-width:0.8;\" x=\"41.667188\" xlink:href=\"#m2a673f573c\" y=\"12.648562\"/>\n      </g>\n     </g>\n     <g id=\"text_13\">\n      <!-- 300 -->\n      <g transform=\"translate(15.579688 16.447781)scale(0.1 -0.1)\">\n       <defs>\n        <path d=\"M 2597 2516 \nQ 3050 2419 3304 2112 \nQ 3559 1806 3559 1356 \nQ 3559 666 3084 287 \nQ 2609 -91 1734 -91 \nQ 1441 -91 1130 -33 \nQ 819 25 488 141 \nL 488 750 \nQ 750 597 1062 519 \nQ 1375 441 1716 441 \nQ 2309 441 2620 675 \nQ 2931 909 2931 1356 \nQ 2931 1769 2642 2001 \nQ 2353 2234 1838 2234 \nL 1294 2234 \nL 1294 2753 \nL 1863 2753 \nQ 2328 2753 2575 2939 \nQ 2822 3125 2822 3475 \nQ 2822 3834 2567 4026 \nQ 2313 4219 1838 4219 \nQ 1578 4219 1281 4162 \nQ 984 4106 628 3988 \nL 628 4550 \nQ 988 4650 1302 4700 \nQ 1616 4750 1894 4750 \nQ 2613 4750 3031 4423 \nQ 3450 4097 3450 3541 \nQ 3450 3153 3228 2886 \nQ 3006 2619 2597 2516 \nz\n\" id=\"DejaVuSans-33\" transform=\"scale(0.015625)\"/>\n       </defs>\n       <use xlink:href=\"#DejaVuSans-33\"/>\n       <use x=\"63.623047\" xlink:href=\"#DejaVuSans-30\"/>\n       <use x=\"127.246094\" xlink:href=\"#DejaVuSans-30\"/>\n      </g>\n     </g>\n    </g>\n   </g>\n   <g id=\"patch_3\">\n    <path d=\"M 41.667188 224.64 \nL 41.667188 7.2 \n\" style=\"fill:none;stroke:#000000;stroke-linecap:square;stroke-linejoin:miter;stroke-width:0.8;\"/>\n   </g>\n   <g id=\"patch_4\">\n    <path d=\"M 376.467188 224.64 \nL 376.467188 7.2 \n\" style=\"fill:none;stroke:#000000;stroke-linecap:square;stroke-linejoin:miter;stroke-width:0.8;\"/>\n   </g>\n   <g id=\"patch_5\">\n    <path d=\"M 41.667188 224.64 \nL 376.467188 224.64 \n\" style=\"fill:none;stroke:#000000;stroke-linecap:square;stroke-linejoin:miter;stroke-width:0.8;\"/>\n   </g>\n   <g id=\"patch_6\">\n    <path d=\"M 41.667188 7.2 \nL 376.467188 7.2 \n\" style=\"fill:none;stroke:#000000;stroke-linecap:square;stroke-linejoin:miter;stroke-width:0.8;\"/>\n   </g>\n  </g>\n </g>\n <defs>\n  <clipPath id=\"pe8eeeb9b9b\">\n   <rect height=\"217.44\" width=\"334.8\" x=\"41.667188\" y=\"7.2\"/>\n  </clipPath>\n </defs>\n</svg>\n",
      "image/png": "[encoded data removed]"
     },
     "metadata": {
      "needs_background": "light"
     }
    }
   ],
   "metadata": {}
  },
  {
   "cell_type": "code",
   "execution_count": 85,
   "source": [
    "idxs = [tokenizer.vocab['Ġ' + word] for word in ['terrible', 'bad', 'okay', 'good', 'great']]\n",
    "preds_test = [emb[idxs].argmax() for emb in embs_test]\n",
    "acc = (preds_test == labels_test).mean()\n",
    "print(acc)\n",
    "print(preds_test)"
   ],
   "outputs": [
    {
     "output_type": "stream",
     "name": "stdout",
     "text": [
      "0.425\n",
      "[0, 0, 0, 0, 0, 4, 3, 4, 4, 2, 4, 4, 0, 2, 4, 4, 4, 0, 4, 0, 4, 2, 0, 0, 3, 0, 1, 4, 4, 0, 3, 3, 1, 4, 0, 0, 4, 4, 1, 4, 0, 1, 3, 0, 0, 0, 0, 0, 3, 0, 4, 2, 4, 0, 3, 4, 1, 0, 4, 0, 4, 0, 0, 4, 4, 4, 0, 4, 0, 2, 4, 0, 4, 4, 4, 4, 0, 4, 2, 4, 1, 0, 1, 4, 2, 0, 4, 4, 4, 4, 1, 3, 3, 2, 3, 3, 1, 4, 1, 4, 0, 4, 4, 2, 0, 0, 1, 3, 1, 4, 1, 4, 0, 4, 0, 0, 4, 2, 3, 4, 3, 3, 2, 3, 3, 3, 4, 4, 4, 3, 4, 4, 4, 4, 1, 4, 2, 4, 0, 2, 3, 0, 4, 4, 4, 0, 0, 0, 0, 3, 3, 3, 3, 4, 0, 4, 0, 0, 0, 3, 2, 2, 3, 0, 4, 3, 1, 3, 3, 4, 3, 3, 0, 4, 0, 0, 3, 0, 4, 4, 4, 4, 3, 0, 0, 0, 0, 0, 4, 1, 4, 3, 4, 4, 2, 0, 2, 2, 0, 4]\n"
     ]
    }
   ],
   "metadata": {}
  },
  {
   "cell_type": "code",
   "execution_count": null,
   "source": [],
   "outputs": [],
   "metadata": {}
  },
  {
   "cell_type": "code",
   "execution_count": 64,
   "source": [
    "plt.hist(labels_test)"
   ],
   "outputs": [
    {
     "output_type": "execute_result",
     "data": {
      "text/plain": [
       "(array([44.,  0., 53.,  0.,  0., 36.,  0., 38.,  0., 29.]),\n",
       " array([0. , 0.4, 0.8, 1.2, 1.6, 2. , 2.4, 2.8, 3.2, 3.6, 4. ]),\n",
       " <BarContainer object of 10 artists>)"
      ]
     },
     "metadata": {},
     "execution_count": 64
    },
    {
     "output_type": "display_data",
     "data": {
      "text/plain": [
       "<Figure size 432x288 with 1 Axes>"
      ],
      "image/svg+xml": "<?xml version=\"1.0\" encoding=\"utf-8\" standalone=\"no\"?>\n<!DOCTYPE svg PUBLIC \"-//W3C//DTD SVG 1.1//EN\"\n  \"http://www.w3.org/Graphics/SVG/1.1/DTD/svg11.dtd\">\n<svg height=\"248.518125pt\" version=\"1.1\" viewBox=\"0 0 368.925 248.518125\" width=\"368.925pt\" xmlns=\"http://www.w3.org/2000/svg\" xmlns:xlink=\"http://www.w3.org/1999/xlink\">\n <metadata>\n  <rdf:RDF xmlns:cc=\"http://creativecommons.org/ns#\" xmlns:dc=\"http://purl.org/dc/elements/1.1/\" xmlns:rdf=\"http://www.w3.org/1999/02/22-rdf-syntax-ns#\">\n   <cc:Work>\n    <dc:type rdf:resource=\"http://purl.org/dc/dcmitype/StillImage\"/>\n    <dc:date>2021-08-19T07:01:38.915994</dc:date>\n    <dc:format>image/svg+xml</dc:format>\n    <dc:creator>\n     <cc:Agent>\n      <dc:title>Matplotlib v3.4.2, https://matplotlib.org/</dc:title>\n     </cc:Agent>\n    </dc:creator>\n   </cc:Work>\n  </rdf:RDF>\n </metadata>\n <defs>\n  <style type=\"text/css\">*{stroke-linecap:butt;stroke-linejoin:round;}</style>\n </defs>\n <g id=\"figure_1\">\n  <g id=\"patch_1\">\n   <path d=\"M -0 248.518125 \nL 368.925 248.518125 \nL 368.925 0 \nL -0 0 \nz\n\" style=\"fill:none;\"/>\n  </g>\n  <g id=\"axes_1\">\n   <g id=\"patch_2\">\n    <path d=\"M 26.925 224.64 \nL 361.725 224.64 \nL 361.725 7.2 \nL 26.925 7.2 \nz\n\" style=\"fill:#ffffff;\"/>\n   </g>\n   <g id=\"patch_3\">\n    <path clip-path=\"url(#pdbd0c8e6aa)\" d=\"M 42.143182 224.64 \nL 72.579545 224.64 \nL 72.579545 52.719784 \nL 42.143182 52.719784 \nz\n\" style=\"fill:#1f77b4;\"/>\n   </g>\n   <g id=\"patch_4\">\n    <path clip-path=\"url(#pdbd0c8e6aa)\" d=\"M 72.579545 224.64 \nL 103.015909 224.64 \nL 103.015909 224.64 \nL 72.579545 224.64 \nz\n\" style=\"fill:#1f77b4;\"/>\n   </g>\n   <g id=\"patch_5\">\n    <path clip-path=\"url(#pdbd0c8e6aa)\" d=\"M 103.015909 224.64 \nL 133.452273 224.64 \nL 133.452273 17.554286 \nL 103.015909 17.554286 \nz\n\" style=\"fill:#1f77b4;\"/>\n   </g>\n   <g id=\"patch_6\">\n    <path clip-path=\"url(#pdbd0c8e6aa)\" d=\"M 133.452273 224.64 \nL 163.888636 224.64 \nL 163.888636 224.64 \nL 133.452273 224.64 \nz\n\" style=\"fill:#1f77b4;\"/>\n   </g>\n   <g id=\"patch_7\">\n    <path clip-path=\"url(#pdbd0c8e6aa)\" d=\"M 163.888636 224.64 \nL 194.325 224.64 \nL 194.325 224.64 \nL 163.888636 224.64 \nz\n\" style=\"fill:#1f77b4;\"/>\n   </g>\n   <g id=\"patch_8\">\n    <path clip-path=\"url(#pdbd0c8e6aa)\" d=\"M 194.325 224.64 \nL 224.761364 224.64 \nL 224.761364 83.978005 \nL 194.325 83.978005 \nz\n\" style=\"fill:#1f77b4;\"/>\n   </g>\n   <g id=\"patch_9\">\n    <path clip-path=\"url(#pdbd0c8e6aa)\" d=\"M 224.761364 224.64 \nL 255.197727 224.64 \nL 255.197727 224.64 \nL 224.761364 224.64 \nz\n\" style=\"fill:#1f77b4;\"/>\n   </g>\n   <g id=\"patch_10\">\n    <path clip-path=\"url(#pdbd0c8e6aa)\" d=\"M 255.197727 224.64 \nL 285.634091 224.64 \nL 285.634091 76.16345 \nL 255.197727 76.16345 \nz\n\" style=\"fill:#1f77b4;\"/>\n   </g>\n   <g id=\"patch_11\">\n    <path clip-path=\"url(#pdbd0c8e6aa)\" d=\"M 285.634091 224.64 \nL 316.070455 224.64 \nL 316.070455 224.64 \nL 285.634091 224.64 \nz\n\" style=\"fill:#1f77b4;\"/>\n   </g>\n   <g id=\"patch_12\">\n    <path clip-path=\"url(#pdbd0c8e6aa)\" d=\"M 316.070455 224.64 \nL 346.506818 224.64 \nL 346.506818 111.328949 \nL 316.070455 111.328949 \nz\n\" style=\"fill:#1f77b4;\"/>\n   </g>\n   <g id=\"matplotlib.axis_1\">\n    <g id=\"xtick_1\">\n     <g id=\"line2d_1\">\n      <defs>\n       <path d=\"M 0 0 \nL 0 3.5 \n\" id=\"m66a9006aed\" style=\"stroke:#000000;stroke-width:0.8;\"/>\n      </defs>\n      <g>\n       <use style=\"stroke:#000000;stroke-width:0.8;\" x=\"42.143182\" xlink:href=\"#m66a9006aed\" y=\"224.64\"/>\n      </g>\n     </g>\n     <g id=\"text_1\">\n      <!-- 0.0 -->\n      <g transform=\"translate(34.191619 239.238438)scale(0.1 -0.1)\">\n       <defs>\n        <path d=\"M 2034 4250 \nQ 1547 4250 1301 3770 \nQ 1056 3291 1056 2328 \nQ 1056 1369 1301 889 \nQ 1547 409 2034 409 \nQ 2525 409 2770 889 \nQ 3016 1369 3016 2328 \nQ 3016 3291 2770 3770 \nQ 2525 4250 2034 4250 \nz\nM 2034 4750 \nQ 2819 4750 3233 4129 \nQ 3647 3509 3647 2328 \nQ 3647 1150 3233 529 \nQ 2819 -91 2034 -91 \nQ 1250 -91 836 529 \nQ 422 1150 422 2328 \nQ 422 3509 836 4129 \nQ 1250 4750 2034 4750 \nz\n\" id=\"DejaVuSans-30\" transform=\"scale(0.015625)\"/>\n        <path d=\"M 684 794 \nL 1344 794 \nL 1344 0 \nL 684 0 \nL 684 794 \nz\n\" id=\"DejaVuSans-2e\" transform=\"scale(0.015625)\"/>\n       </defs>\n       <use xlink:href=\"#DejaVuSans-30\"/>\n       <use x=\"63.623047\" xlink:href=\"#DejaVuSans-2e\"/>\n       <use x=\"95.410156\" xlink:href=\"#DejaVuSans-30\"/>\n      </g>\n     </g>\n    </g>\n    <g id=\"xtick_2\">\n     <g id=\"line2d_2\">\n      <g>\n       <use style=\"stroke:#000000;stroke-width:0.8;\" x=\"80.188636\" xlink:href=\"#m66a9006aed\" y=\"224.64\"/>\n      </g>\n     </g>\n     <g id=\"text_2\">\n      <!-- 0.5 -->\n      <g transform=\"translate(72.237074 239.238438)scale(0.1 -0.1)\">\n       <defs>\n        <path d=\"M 691 4666 \nL 3169 4666 \nL 3169 4134 \nL 1269 4134 \nL 1269 2991 \nQ 1406 3038 1543 3061 \nQ 1681 3084 1819 3084 \nQ 2600 3084 3056 2656 \nQ 3513 2228 3513 1497 \nQ 3513 744 3044 326 \nQ 2575 -91 1722 -91 \nQ 1428 -91 1123 -41 \nQ 819 9 494 109 \nL 494 744 \nQ 775 591 1075 516 \nQ 1375 441 1709 441 \nQ 2250 441 2565 725 \nQ 2881 1009 2881 1497 \nQ 2881 1984 2565 2268 \nQ 2250 2553 1709 2553 \nQ 1456 2553 1204 2497 \nQ 953 2441 691 2322 \nL 691 4666 \nz\n\" id=\"DejaVuSans-35\" transform=\"scale(0.015625)\"/>\n       </defs>\n       <use xlink:href=\"#DejaVuSans-30\"/>\n       <use x=\"63.623047\" xlink:href=\"#DejaVuSans-2e\"/>\n       <use x=\"95.410156\" xlink:href=\"#DejaVuSans-35\"/>\n      </g>\n     </g>\n    </g>\n    <g id=\"xtick_3\">\n     <g id=\"line2d_3\">\n      <g>\n       <use style=\"stroke:#000000;stroke-width:0.8;\" x=\"118.234091\" xlink:href=\"#m66a9006aed\" y=\"224.64\"/>\n      </g>\n     </g>\n     <g id=\"text_3\">\n      <!-- 1.0 -->\n      <g transform=\"translate(110.282528 239.238438)scale(0.1 -0.1)\">\n       <defs>\n        <path d=\"M 794 531 \nL 1825 531 \nL 1825 4091 \nL 703 3866 \nL 703 4441 \nL 1819 4666 \nL 2450 4666 \nL 2450 531 \nL 3481 531 \nL 3481 0 \nL 794 0 \nL 794 531 \nz\n\" id=\"DejaVuSans-31\" transform=\"scale(0.015625)\"/>\n       </defs>\n       <use xlink:href=\"#DejaVuSans-31\"/>\n       <use x=\"63.623047\" xlink:href=\"#DejaVuSans-2e\"/>\n       <use x=\"95.410156\" xlink:href=\"#DejaVuSans-30\"/>\n      </g>\n     </g>\n    </g>\n    <g id=\"xtick_4\">\n     <g id=\"line2d_4\">\n      <g>\n       <use style=\"stroke:#000000;stroke-width:0.8;\" x=\"156.279545\" xlink:href=\"#m66a9006aed\" y=\"224.64\"/>\n      </g>\n     </g>\n     <g id=\"text_4\">\n      <!-- 1.5 -->\n      <g transform=\"translate(148.327983 239.238438)scale(0.1 -0.1)\">\n       <use xlink:href=\"#DejaVuSans-31\"/>\n       <use x=\"63.623047\" xlink:href=\"#DejaVuSans-2e\"/>\n       <use x=\"95.410156\" xlink:href=\"#DejaVuSans-35\"/>\n      </g>\n     </g>\n    </g>\n    <g id=\"xtick_5\">\n     <g id=\"line2d_5\">\n      <g>\n       <use style=\"stroke:#000000;stroke-width:0.8;\" x=\"194.325\" xlink:href=\"#m66a9006aed\" y=\"224.64\"/>\n      </g>\n     </g>\n     <g id=\"text_5\">\n      <!-- 2.0 -->\n      <g transform=\"translate(186.373438 239.238438)scale(0.1 -0.1)\">\n       <defs>\n        <path d=\"M 1228 531 \nL 3431 531 \nL 3431 0 \nL 469 0 \nL 469 531 \nQ 828 903 1448 1529 \nQ 2069 2156 2228 2338 \nQ 2531 2678 2651 2914 \nQ 2772 3150 2772 3378 \nQ 2772 3750 2511 3984 \nQ 2250 4219 1831 4219 \nQ 1534 4219 1204 4116 \nQ 875 4013 500 3803 \nL 500 4441 \nQ 881 4594 1212 4672 \nQ 1544 4750 1819 4750 \nQ 2544 4750 2975 4387 \nQ 3406 4025 3406 3419 \nQ 3406 3131 3298 2873 \nQ 3191 2616 2906 2266 \nQ 2828 2175 2409 1742 \nQ 1991 1309 1228 531 \nz\n\" id=\"DejaVuSans-32\" transform=\"scale(0.015625)\"/>\n       </defs>\n       <use xlink:href=\"#DejaVuSans-32\"/>\n       <use x=\"63.623047\" xlink:href=\"#DejaVuSans-2e\"/>\n       <use x=\"95.410156\" xlink:href=\"#DejaVuSans-30\"/>\n      </g>\n     </g>\n    </g>\n    <g id=\"xtick_6\">\n     <g id=\"line2d_6\">\n      <g>\n       <use style=\"stroke:#000000;stroke-width:0.8;\" x=\"232.370455\" xlink:href=\"#m66a9006aed\" y=\"224.64\"/>\n      </g>\n     </g>\n     <g id=\"text_6\">\n      <!-- 2.5 -->\n      <g transform=\"translate(224.418892 239.238438)scale(0.1 -0.1)\">\n       <use xlink:href=\"#DejaVuSans-32\"/>\n       <use x=\"63.623047\" xlink:href=\"#DejaVuSans-2e\"/>\n       <use x=\"95.410156\" xlink:href=\"#DejaVuSans-35\"/>\n      </g>\n     </g>\n    </g>\n    <g id=\"xtick_7\">\n     <g id=\"line2d_7\">\n      <g>\n       <use style=\"stroke:#000000;stroke-width:0.8;\" x=\"270.415909\" xlink:href=\"#m66a9006aed\" y=\"224.64\"/>\n      </g>\n     </g>\n     <g id=\"text_7\">\n      <!-- 3.0 -->\n      <g transform=\"translate(262.464347 239.238438)scale(0.1 -0.1)\">\n       <defs>\n        <path d=\"M 2597 2516 \nQ 3050 2419 3304 2112 \nQ 3559 1806 3559 1356 \nQ 3559 666 3084 287 \nQ 2609 -91 1734 -91 \nQ 1441 -91 1130 -33 \nQ 819 25 488 141 \nL 488 750 \nQ 750 597 1062 519 \nQ 1375 441 1716 441 \nQ 2309 441 2620 675 \nQ 2931 909 2931 1356 \nQ 2931 1769 2642 2001 \nQ 2353 2234 1838 2234 \nL 1294 2234 \nL 1294 2753 \nL 1863 2753 \nQ 2328 2753 2575 2939 \nQ 2822 3125 2822 3475 \nQ 2822 3834 2567 4026 \nQ 2313 4219 1838 4219 \nQ 1578 4219 1281 4162 \nQ 984 4106 628 3988 \nL 628 4550 \nQ 988 4650 1302 4700 \nQ 1616 4750 1894 4750 \nQ 2613 4750 3031 4423 \nQ 3450 4097 3450 3541 \nQ 3450 3153 3228 2886 \nQ 3006 2619 2597 2516 \nz\n\" id=\"DejaVuSans-33\" transform=\"scale(0.015625)\"/>\n       </defs>\n       <use xlink:href=\"#DejaVuSans-33\"/>\n       <use x=\"63.623047\" xlink:href=\"#DejaVuSans-2e\"/>\n       <use x=\"95.410156\" xlink:href=\"#DejaVuSans-30\"/>\n      </g>\n     </g>\n    </g>\n    <g id=\"xtick_8\">\n     <g id=\"line2d_8\">\n      <g>\n       <use style=\"stroke:#000000;stroke-width:0.8;\" x=\"308.461364\" xlink:href=\"#m66a9006aed\" y=\"224.64\"/>\n      </g>\n     </g>\n     <g id=\"text_8\">\n      <!-- 3.5 -->\n      <g transform=\"translate(300.509801 239.238438)scale(0.1 -0.1)\">\n       <use xlink:href=\"#DejaVuSans-33\"/>\n       <use x=\"63.623047\" xlink:href=\"#DejaVuSans-2e\"/>\n       <use x=\"95.410156\" xlink:href=\"#DejaVuSans-35\"/>\n      </g>\n     </g>\n    </g>\n    <g id=\"xtick_9\">\n     <g id=\"line2d_9\">\n      <g>\n       <use style=\"stroke:#000000;stroke-width:0.8;\" x=\"346.506818\" xlink:href=\"#m66a9006aed\" y=\"224.64\"/>\n      </g>\n     </g>\n     <g id=\"text_9\">\n      <!-- 4.0 -->\n      <g transform=\"translate(338.555256 239.238438)scale(0.1 -0.1)\">\n       <defs>\n        <path d=\"M 2419 4116 \nL 825 1625 \nL 2419 1625 \nL 2419 4116 \nz\nM 2253 4666 \nL 3047 4666 \nL 3047 1625 \nL 3713 1625 \nL 3713 1100 \nL 3047 1100 \nL 3047 0 \nL 2419 0 \nL 2419 1100 \nL 313 1100 \nL 313 1709 \nL 2253 4666 \nz\n\" id=\"DejaVuSans-34\" transform=\"scale(0.015625)\"/>\n       </defs>\n       <use xlink:href=\"#DejaVuSans-34\"/>\n       <use x=\"63.623047\" xlink:href=\"#DejaVuSans-2e\"/>\n       <use x=\"95.410156\" xlink:href=\"#DejaVuSans-30\"/>\n      </g>\n     </g>\n    </g>\n   </g>\n   <g id=\"matplotlib.axis_2\">\n    <g id=\"ytick_1\">\n     <g id=\"line2d_10\">\n      <defs>\n       <path d=\"M 0 0 \nL -3.5 0 \n\" id=\"m9df1f5e258\" style=\"stroke:#000000;stroke-width:0.8;\"/>\n      </defs>\n      <g>\n       <use style=\"stroke:#000000;stroke-width:0.8;\" x=\"26.925\" xlink:href=\"#m9df1f5e258\" y=\"224.64\"/>\n      </g>\n     </g>\n     <g id=\"text_10\">\n      <!-- 0 -->\n      <g transform=\"translate(13.5625 228.439219)scale(0.1 -0.1)\">\n       <use xlink:href=\"#DejaVuSans-30\"/>\n      </g>\n     </g>\n    </g>\n    <g id=\"ytick_2\">\n     <g id=\"line2d_11\">\n      <g>\n       <use style=\"stroke:#000000;stroke-width:0.8;\" x=\"26.925\" xlink:href=\"#m9df1f5e258\" y=\"185.567224\"/>\n      </g>\n     </g>\n     <g id=\"text_11\">\n      <!-- 10 -->\n      <g transform=\"translate(7.2 189.366442)scale(0.1 -0.1)\">\n       <use xlink:href=\"#DejaVuSans-31\"/>\n       <use x=\"63.623047\" xlink:href=\"#DejaVuSans-30\"/>\n      </g>\n     </g>\n    </g>\n    <g id=\"ytick_3\">\n     <g id=\"line2d_12\">\n      <g>\n       <use style=\"stroke:#000000;stroke-width:0.8;\" x=\"26.925\" xlink:href=\"#m9df1f5e258\" y=\"146.494447\"/>\n      </g>\n     </g>\n     <g id=\"text_12\">\n      <!-- 20 -->\n      <g transform=\"translate(7.2 150.293666)scale(0.1 -0.1)\">\n       <use xlink:href=\"#DejaVuSans-32\"/>\n       <use x=\"63.623047\" xlink:href=\"#DejaVuSans-30\"/>\n      </g>\n     </g>\n    </g>\n    <g id=\"ytick_4\">\n     <g id=\"line2d_13\">\n      <g>\n       <use style=\"stroke:#000000;stroke-width:0.8;\" x=\"26.925\" xlink:href=\"#m9df1f5e258\" y=\"107.421671\"/>\n      </g>\n     </g>\n     <g id=\"text_13\">\n      <!-- 30 -->\n      <g transform=\"translate(7.2 111.22089)scale(0.1 -0.1)\">\n       <use xlink:href=\"#DejaVuSans-33\"/>\n       <use x=\"63.623047\" xlink:href=\"#DejaVuSans-30\"/>\n      </g>\n     </g>\n    </g>\n    <g id=\"ytick_5\">\n     <g id=\"line2d_14\">\n      <g>\n       <use style=\"stroke:#000000;stroke-width:0.8;\" x=\"26.925\" xlink:href=\"#m9df1f5e258\" y=\"68.348895\"/>\n      </g>\n     </g>\n     <g id=\"text_14\">\n      <!-- 40 -->\n      <g transform=\"translate(7.2 72.148114)scale(0.1 -0.1)\">\n       <use xlink:href=\"#DejaVuSans-34\"/>\n       <use x=\"63.623047\" xlink:href=\"#DejaVuSans-30\"/>\n      </g>\n     </g>\n    </g>\n    <g id=\"ytick_6\">\n     <g id=\"line2d_15\">\n      <g>\n       <use style=\"stroke:#000000;stroke-width:0.8;\" x=\"26.925\" xlink:href=\"#m9df1f5e258\" y=\"29.276119\"/>\n      </g>\n     </g>\n     <g id=\"text_15\">\n      <!-- 50 -->\n      <g transform=\"translate(7.2 33.075337)scale(0.1 -0.1)\">\n       <use xlink:href=\"#DejaVuSans-35\"/>\n       <use x=\"63.623047\" xlink:href=\"#DejaVuSans-30\"/>\n      </g>\n     </g>\n    </g>\n   </g>\n   <g id=\"patch_13\">\n    <path d=\"M 26.925 224.64 \nL 26.925 7.2 \n\" style=\"fill:none;stroke:#000000;stroke-linecap:square;stroke-linejoin:miter;stroke-width:0.8;\"/>\n   </g>\n   <g id=\"patch_14\">\n    <path d=\"M 361.725 224.64 \nL 361.725 7.2 \n\" style=\"fill:none;stroke:#000000;stroke-linecap:square;stroke-linejoin:miter;stroke-width:0.8;\"/>\n   </g>\n   <g id=\"patch_15\">\n    <path d=\"M 26.925 224.64 \nL 361.725 224.64 \n\" style=\"fill:none;stroke:#000000;stroke-linecap:square;stroke-linejoin:miter;stroke-width:0.8;\"/>\n   </g>\n   <g id=\"patch_16\">\n    <path d=\"M 26.925 7.2 \nL 361.725 7.2 \n\" style=\"fill:none;stroke:#000000;stroke-linecap:square;stroke-linejoin:miter;stroke-width:0.8;\"/>\n   </g>\n  </g>\n </g>\n <defs>\n  <clipPath id=\"pdbd0c8e6aa\">\n   <rect height=\"217.44\" width=\"334.8\" x=\"26.925\" y=\"7.2\"/>\n  </clipPath>\n </defs>\n</svg>\n",
      "image/png": "[encoded data removed]"
     },
     "metadata": {
      "needs_background": "light"
     }
    }
   ],
   "metadata": {}
  },
  {
   "cell_type": "code",
   "execution_count": null,
   "source": [
    "No-context: 42.5\n",
    "With context (5): 44.5"
   ],
   "outputs": [],
   "metadata": {}
  }
 ],
 "metadata": {
  "orig_nbformat": 4,
  "language_info": {
   "name": "python",
   "version": "3.9.1",
   "mimetype": "text/x-python",
   "codemirror_mode": {
    "name": "ipython",
    "version": 3
   },
   "pygments_lexer": "ipython3",
   "nbconvert_exporter": "python",
   "file_extension": ".py"
  },
  "kernelspec": {
   "name": "python3",
   "display_name": "Python 3.9.1 64-bit ('base': conda)"
  },
  "interpreter": {
   "hash": "e329eaacdde1c3f16b1d348b966d5b9ad2a51ea4006f452504e74c885ba70bb5"
  }
 },
 "nbformat": 4,
 "nbformat_minor": 2
}