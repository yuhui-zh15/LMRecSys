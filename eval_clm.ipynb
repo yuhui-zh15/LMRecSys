{
 "metadata": {
  "language_info": {
   "name": "python",
   "version": "3.9.1",
   "mimetype": "text/x-python",
   "codemirror_mode": {
    "name": "ipython",
    "version": 3
   },
   "pygments_lexer": "ipython3",
   "nbconvert_exporter": "python",
   "file_extension": ".py"
  },
  "orig_nbformat": 4,
  "kernelspec": {
   "name": "python3",
   "display_name": "Python 3.9.1 64-bit ('base': conda)"
  },
  "interpreter": {
   "hash": "e329eaacdde1c3f16b1d348b966d5b9ad2a51ea4006f452504e74c885ba70bb5"
  }
 },
 "nbformat": 4,
 "nbformat_minor": 2,
 "cells": [
  {
   "cell_type": "code",
   "execution_count": 24,
   "source": [
    "import json\n",
    "import numpy as np\n",
    "from collections import Counter\n",
    "from matplotlib import pyplot as plt\n",
    "from utils import *\n",
    "from tqdm import tqdm, trange"
   ],
   "outputs": [],
   "metadata": {}
  },
  {
   "cell_type": "code",
   "execution_count": 2,
   "source": [
    "data = [json.loads(line) for line in open('datasets/MovieLens-1M/data.jsonl')]\n",
    "id2name = json.load(open('datasets/MovieLens-1M/id2name.json'))"
   ],
   "outputs": [],
   "metadata": {}
  },
  {
   "cell_type": "code",
   "execution_count": 9,
   "source": [
    "outputs = np.array([json.loads(line) for line in open('zero-shot-dumps/gpt2_pattern1_batchify.jsonl')][:750])\n",
    "top_preds = outputs.argsort(-1)\n",
    "labels = np.array([item['ids'][:7][-2] for item in data[:len(top_preds)]])\n",
    "compute_recall_at_k(top_preds, labels)"
   ],
   "outputs": [
    {
     "output_type": "execute_result",
     "data": {
      "text/plain": [
       "0.06666666666666667"
      ]
     },
     "metadata": {},
     "execution_count": 9
    }
   ],
   "metadata": {}
  },
  {
   "cell_type": "code",
   "execution_count": 10,
   "source": [
    "calibration = np.array(json.load(open('zero-shot-dumps/gpt2_pattern1_calibration.json')))"
   ],
   "outputs": [],
   "metadata": {}
  },
  {
   "cell_type": "code",
   "execution_count": 13,
   "source": [
    "top_preds"
   ],
   "outputs": [
    {
     "output_type": "execute_result",
     "data": {
      "text/plain": [
       "array([[ 740, 3370, 1176, ..., 3011,  684, 3338],\n",
       "       [ 740, 1192, 1178, ..., 1140,  684, 3011],\n",
       "       [ 740, 3370, 1176, ...,  684, 3011, 3338],\n",
       "       ...,\n",
       "       [ 740, 1192, 1178, ..., 1140,  684, 3011],\n",
       "       [ 740, 1176, 3370, ..., 3338,  684, 3011],\n",
       "       [ 740, 3370, 1176, ...,  764, 3011,  684]])"
      ]
     },
     "metadata": {},
     "execution_count": 13
    }
   ],
   "metadata": {}
  },
  {
   "cell_type": "code",
   "execution_count": 15,
   "source": [
    "top_pred = calibration.argsort(-1)\n",
    "top_pred"
   ],
   "outputs": [
    {
     "output_type": "execute_result",
     "data": {
      "text/plain": [
       "array([ 740, 3370, 1176, ..., 3338, 1440,  764])"
      ]
     },
     "metadata": {},
     "execution_count": 15
    }
   ],
   "metadata": {}
  },
  {
   "cell_type": "code",
   "execution_count": 23,
   "source": [
    "from scipy import stats\n",
    "corrs = [stats.spearmanr(output, calibration)[0] for output in outputs]\n",
    "print(np.mean(corrs), np.std(corrs))"
   ],
   "outputs": [
    {
     "output_type": "stream",
     "name": "stdout",
     "text": [
      "0.8289260171195261 0.054541750341739206\n"
     ]
    }
   ],
   "metadata": {}
  },
  {
   "cell_type": "code",
   "execution_count": 5,
   "source": [
    "[id2name[i] for i in np.argsort(np.array(calibration))[:5]]"
   ],
   "outputs": [
    {
     "output_type": "execute_result",
     "data": {
      "text/plain": [
       "['Dr. Strangelove or: How I Learned to Stop Worrying and Love the Bomb',\n",
       " 'Teenage Mutant Ninja Turtles II: The Secret of the Ooze',\n",
       " \"One Flew Over the Cuckoo's Nest\",\n",
       " 'Star Wars: Episode I - The Phantom Menace',\n",
       " 'Star Wars: Episode VI - Return of the Jedi']"
      ]
     },
     "metadata": {},
     "execution_count": 5
    }
   ],
   "metadata": {}
  },
  {
   "cell_type": "code",
   "execution_count": null,
   "source": [],
   "outputs": [],
   "metadata": {}
  },
  {
   "cell_type": "code",
   "execution_count": 34,
   "source": [
    "rs = []\n",
    "outputs = np.log(np.array([json.loads(line) for line in open('zero-shot-dumps/gpt2_pattern1_batchify.jsonl')])[:750])\n",
    "calibration = np.log(calibration).reshape(1, -1)\n",
    "labels = np.array([item['ids'][:7][-2] for item in data[:len(top_preds)]])\n",
    "for alpha in trange(100):\n",
    "    scores = outputs - 0.01 * alpha * calibration\n",
    "    top_preds = np.array(scores).argsort(-1)\n",
    "    r = compute_recall_at_k(top_preds, labels)\n",
    "    rs.append(r)"
   ],
   "outputs": [
    {
     "output_type": "stream",
     "name": "stderr",
     "text": [
      "100%|██████████| 100/100 [00:20<00:00,  4.79it/s]\n"
     ]
    }
   ],
   "metadata": {}
  },
  {
   "cell_type": "code",
   "execution_count": 37,
   "source": [
    "np.argmax(rs)"
   ],
   "outputs": [
    {
     "output_type": "execute_result",
     "data": {
      "text/plain": [
       "40"
      ]
     },
     "metadata": {},
     "execution_count": 37
    }
   ],
   "metadata": {}
  },
  {
   "cell_type": "code",
   "execution_count": 52,
   "source": [
    "scores = outputs - 0.4 * calibration\n",
    "top_preds = np.array(scores).argsort(-1)\n",
    "compute_recall_at_k(top_preds, labels)"
   ],
   "outputs": [
    {
     "output_type": "execute_result",
     "data": {
      "text/plain": [
       "0.07333333333333333"
      ]
     },
     "metadata": {},
     "execution_count": 52
    }
   ],
   "metadata": {}
  },
  {
   "cell_type": "code",
   "execution_count": 53,
   "source": [
    "top_preds"
   ],
   "outputs": [
    {
     "output_type": "execute_result",
     "data": {
      "text/plain": [
       "array([[3370,  740, 1176, ..., 3011,  684, 3338],\n",
       "       [1192, 1178, 2559, ..., 1140,  684, 3011],\n",
       "       [3370,  589, 1176, ..., 3338,  684, 3011],\n",
       "       ...,\n",
       "       [1985,  326, 1081, ..., 1140,  684, 3011],\n",
       "       [1230, 1081, 3402, ..., 2754,  684, 3011],\n",
       "       [ 740, 3370, 1176, ..., 1092, 3011,  684]])"
      ]
     },
     "metadata": {},
     "execution_count": 53
    }
   ],
   "metadata": {}
  },
  {
   "cell_type": "code",
   "execution_count": 43,
   "source": [
    "def pattern(ids, id2name):\n",
    "    s = 'A user watched '\n",
    "    for id in ids:\n",
    "        s += id2name[id] + ', '\n",
    "    s = s.strip()[:-1] + '. '\n",
    "    s += 'Now the user may want to watch'\n",
    "    return s"
   ],
   "outputs": [],
   "metadata": {}
  },
  {
   "cell_type": "code",
   "execution_count": 51,
   "source": [
    "idx = 7\n",
    "print(idx)\n",
    "print()\n",
    "ids, label, top_pred, score = data[idx]['ids'][:7][:-2], data[idx]['ids'][:7][-2], list(top_preds[idx]), scores[idx]\n",
    "print(pattern(ids, id2name))\n",
    "print()\n",
    "print('\\n'.join([str((id2name[pred], score[pred])) for pred in top_pred[:5]]))\n",
    "print()\n",
    "print('\\n'.join([str((id2name[pred], score[pred])) for pred in top_pred[-5:]]))\n",
    "print()\n",
    "print(id2name[label], top_pred.index(label))"
   ],
   "outputs": [
    {
     "output_type": "stream",
     "name": "stdout",
     "text": [
      "7\n",
      "\n",
      "A user watched Star Wars: Episode VI - Return of the Jedi, Taxi Driver, North by Northwest, High Fidelity, Face/Off. Now the user may want to watch\n",
      "\n",
      "('Under the Domin Tree (Etz Hadomim Tafus)', -10.72523526123218)\n",
      "('Goodbye, 20th Century (Zbogum na dvadesetiot vek)', -10.679579765576529)\n",
      "('Les convoyeurs attendent', -10.669626414598188)\n",
      "('Wend Kuuni', -10.337777999400679)\n",
      "('Salut cousin!', -10.080008973209521)\n",
      "\n",
      "(\"One Flew Over the Cuckoo's Nest\", -2.2180148709238123)\n",
      "('Star Wars: Episode I - The Phantom Menace', -2.1884219089586296)\n",
      "('Star Wars: Episode VI - Return of the Jedi', -2.1820252418997304)\n",
      "('Teenage Mutant Ninja Turtles II: The Secret of the Ooze', -2.157260324959569)\n",
      "('Dr. Strangelove or: How I Learned to Stop Worrying and Love the Bomb', -1.5006682302995564)\n",
      "\n",
      "Jurassic Park 2759\n"
     ]
    }
   ],
   "metadata": {}
  },
  {
   "cell_type": "code",
   "execution_count": null,
   "source": [],
   "outputs": [],
   "metadata": {}
  }
 ]
}