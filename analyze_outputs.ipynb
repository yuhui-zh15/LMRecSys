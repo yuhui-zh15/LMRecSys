{
 "cells": [
  {
   "cell_type": "code",
   "execution_count": 2,
   "source": [
    "import pickle\n",
    "import torch\n",
    "import json\n",
    "import numpy as np\n",
    "from data import MovieLensDataLoader"
   ],
   "outputs": [],
   "metadata": {}
  },
  {
   "cell_type": "code",
   "execution_count": 3,
   "source": [
    "# outputs_gru_dev = torch.load('dumps/preds-rnn-val-20210722060645.pt')\n",
    "# outputs_gru_test = torch.load('dumps/preds-rnn-test-20210722060654.pt')\n",
    "# outputs_bert_dev = torch.load('dumps/preds-val-20210722061029.pt')\n",
    "# outputs_bert_test = torch.load('dumps/preds-test-20210722061114.pt')\n",
    "outputs_gru_dev = torch.load('dumps/preds-rnn-val-20210722200609.pt')\n",
    "outputs_gru_test = torch.load('dumps/preds-rnn-test-20210722200616.pt')\n",
    "outputs_bert_dev = torch.load('dumps/preds-val-20210722200313.pt')\n",
    "outputs_bert_test = torch.load('dumps/preds-test-20210722200338.pt')\n",
    "len(outputs_gru_dev)"
   ],
   "outputs": [
    {
     "output_type": "execute_result",
     "data": {
      "text/plain": [
       "5337"
      ]
     },
     "metadata": {},
     "execution_count": 3
    }
   ],
   "metadata": {}
  },
  {
   "cell_type": "code",
   "execution_count": 4,
   "source": [
    "dm = MovieLensDataLoader(\n",
    "    data_dir='datasets/MovieLens-1M-5Star',\n",
    "    model_type='BERT',\n",
    "    model_name_or_path='bert-base-cased',\n",
    "    max_seq_length=128,\n",
    "    min_session_length=7,\n",
    "    max_session_length=7\n",
    ")\n",
    "dm.setup()\n",
    "id2name = json.load(open(f'datasets/MovieLens-1M-5Star/id2name.json'))"
   ],
   "outputs": [
    {
     "output_type": "stream",
     "name": "stdout",
     "text": [
      "Loading features from cached dir datasets/MovieLens-1M-5Star/cached_bert-base-cased_28996_128_7_7_10\n",
      "DatasetDict({\n",
      "    train: Dataset({\n",
      "        features: ['attention_mask', 'ids', 'input_ids', 'input_str', 'label', 'mask_idxs', 'token_type_ids', 'user'],\n",
      "        num_rows: 21348\n",
      "    })\n",
      "    val: Dataset({\n",
      "        features: ['attention_mask', 'ids', 'input_ids', 'input_str', 'label', 'mask_idxs', 'token_type_ids', 'user'],\n",
      "        num_rows: 5337\n",
      "    })\n",
      "    test: Dataset({\n",
      "        features: ['attention_mask', 'ids', 'input_ids', 'input_str', 'label', 'mask_idxs', 'token_type_ids', 'user'],\n",
      "        num_rows: 5337\n",
      "    })\n",
      "})\n"
     ]
    }
   ],
   "metadata": {}
  },
  {
   "cell_type": "code",
   "execution_count": 5,
   "source": [
    "def compute_metrics(logits, labels, prefix):\n",
    "    top_idxs = (-logits).argsort()\n",
    "    r_20 = (top_idxs[:, :20] == labels.reshape(-1, 1)).sum(-1).mean(-1)\n",
    "    return {f'{prefix}/r@20': r_20}"
   ],
   "outputs": [],
   "metadata": {}
  },
  {
   "cell_type": "code",
   "execution_count": 15,
   "source": [
    "outputs = outputs_bert_test\n",
    "compute_metrics(logits=np.stack([item['logits'] for item in outputs]), labels=np.array([item['labels'] for item in outputs]), prefix='val')"
   ],
   "outputs": [
    {
     "output_type": "execute_result",
     "data": {
      "text/plain": [
       "{'val/r@20': 0.00018737118231216038}"
      ]
     },
     "metadata": {},
     "execution_count": 15
    }
   ],
   "metadata": {}
  },
  {
   "cell_type": "code",
   "execution_count": 7,
   "source": [
    "outputs_gru_dev[0], outputs_bert_dev[0]"
   ],
   "outputs": [
    {
     "output_type": "execute_result",
     "data": {
      "text/plain": [
       "({'logits': array([  3.3398957,  -4.20791  ,  -2.7382689, ...,  -5.5328903,\n",
       "         -13.28255  ,  -1.2705415], dtype=float32),\n",
       "  'labels': 2286},\n",
       " {'logits': array([43.743164, 50.259804, 50.728096, ..., 53.689045, 57.532642,\n",
       "         49.169582], dtype=float32),\n",
       "  'labels': 2286})"
      ]
     },
     "metadata": {},
     "execution_count": 7
    }
   ],
   "metadata": {}
  },
  {
   "cell_type": "code",
   "execution_count": 24,
   "source": [
    "idx = 20\n",
    "K = 10\n",
    "\n",
    "label = int(dm.dataset['val']['label'][idx])\n",
    "input_str = dm.dataset['val']['input_str'][idx]\n",
    "user = int(dm.dataset['val']['user'][idx])\n",
    "print(user)\n",
    "print(input_str, '\\n')\n",
    "\n",
    "print('------------BERT--------------')\n",
    "\n",
    "outputs = outputs_bert_dev\n",
    "label_verify = outputs[idx]['labels']\n",
    "assert(label == label_verify)\n",
    "logits = outputs[idx]['logits']\n",
    "top_idxs = logits.argsort().tolist()\n",
    "for id in top_idxs[:K]:\n",
    "    print(id, id2name[id], logits[id])\n",
    "print()\n",
    "print(label, id2name[label], logits[label], top_idxs.index(label) + 1)\n",
    "\n",
    "print('------------GRU--------------')\n",
    "\n",
    "outputs = outputs_gru_dev\n",
    "label_verify = outputs[idx]['labels']\n",
    "assert(label == label_verify)\n",
    "logits = outputs[idx]['logits']\n",
    "top_idxs = (-logits).argsort().tolist()\n",
    "for id in top_idxs[:K]:\n",
    "    print(id, id2name[id], logits[id])\n",
    "print()\n",
    "print(label, id2name[label], logits[label], top_idxs.index(label) + 1)"
   ],
   "outputs": [
    {
     "output_type": "stream",
     "name": "stdout",
     "text": [
      "25\n",
      "A user watched Bicentennial Man, Face/Off, Back to the Future Part II, Indiana Jones and the Last Crusade, Transformers: The Movie, The. Now the user may want to watch[MASK][MASK][MASK][MASK][MASK][MASK][MASK][MASK][MASK][MASK] \n",
      "\n",
      "------------BERT--------------\n",
      "1250 Back to the Future 44.068634\n",
      "2559 Star Wars: Episode I - The Phantom Menace 44.491608\n",
      "1187 Transformers: The Movie, The 44.988358\n",
      "3038 Backdraft 45.034927\n",
      "1942 Back to the Future Part II 45.21419\n",
      "1192 Star Wars: Episode VI - Return of the Jedi 45.316505\n",
      "2502 The Matrix 45.42791\n",
      "257 Star Wars: Episode IV - A New Hope 45.430084\n",
      "1183 The Good, the Bad and the Ugly 45.517357\n",
      "847 The Godfather 45.660126\n",
      "\n",
      "2432 October Sky 51.56845 1455\n",
      "------------GRU--------------\n",
      "2046 Indiana Jones and the Temple of Doom 4.0144587\n",
      "770 Independence Day 3.4195216\n",
      "2012 The Little Mermaid 3.2585962\n",
      "606 Heavy Metal 3.232671\n",
      "2559 Star Wars: Episode I - The Phantom Menace 3.1830375\n",
      "2124 Willow 3.1431715\n",
      "1943 Back to the Future Part III 3.1429465\n",
      "1335 Star Trek: First Contact 3.1345665\n",
      "1936 The Goonies 3.052852\n",
      "376 True Lies 2.9507422\n",
      "\n",
      "2432 October Sky -0.183731 411\n"
     ]
    }
   ],
   "metadata": {}
  },
  {
   "cell_type": "code",
   "execution_count": null,
   "source": [],
   "outputs": [],
   "metadata": {}
  }
 ],
 "metadata": {
  "kernelspec": {
   "name": "python3",
   "display_name": "Python 3.9.1 64-bit ('base': conda)"
  },
  "language_info": {
   "codemirror_mode": {
    "name": "ipython",
    "version": 3
   },
   "file_extension": ".py",
   "mimetype": "text/x-python",
   "name": "python",
   "nbconvert_exporter": "python",
   "pygments_lexer": "ipython3",
   "version": "3.9.1"
  },
  "interpreter": {
   "hash": "e329eaacdde1c3f16b1d348b966d5b9ad2a51ea4006f452504e74c885ba70bb5"
  }
 },
 "nbformat": 4,
 "nbformat_minor": 5
}