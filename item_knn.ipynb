{
 "cells": [
  {
   "cell_type": "code",
   "execution_count": 2,
   "source": [
    "import json\n",
    "import torch\n",
    "import numpy as np\n",
    "from transformers import AutoTokenizer, AutoModel\n",
    "from tqdm import tqdm"
   ],
   "outputs": [],
   "metadata": {}
  },
  {
   "cell_type": "code",
   "execution_count": 3,
   "source": [
    "tokenizer = AutoTokenizer.from_pretrained('bert-base-cased')\n",
    "model = AutoModel.from_pretrained('bert-base-cased')\n",
    "id2name = json.load(open('datasets/MovieLens-1M-5Star/id2all.json'))"
   ],
   "outputs": [
    {
     "output_type": "stream",
     "name": "stderr",
     "text": [
      "Some weights of the model checkpoint at bert-base-cased were not used when initializing BertModel: ['cls.predictions.decoder.weight', 'cls.predictions.transform.dense.weight', 'cls.predictions.transform.dense.bias', 'cls.predictions.bias', 'cls.predictions.transform.LayerNorm.weight', 'cls.seq_relationship.bias', 'cls.seq_relationship.weight', 'cls.predictions.transform.LayerNorm.bias']\n",
      "- This IS expected if you are initializing BertModel from the checkpoint of a model trained on another task or with another architecture (e.g. initializing a BertForSequenceClassification model from a BertForPreTraining model).\n",
      "- This IS NOT expected if you are initializing BertModel from the checkpoint of a model that you expect to be exactly identical (initializing a BertForSequenceClassification model from a BertForSequenceClassification model).\n"
     ]
    }
   ],
   "metadata": {}
  },
  {
   "cell_type": "code",
   "execution_count": 4,
   "source": [
    "embs = []\n",
    "for name in tqdm(id2name):\n",
    "    inputs = tokenizer(name, return_tensors='pt')\n",
    "    outputs = model(**inputs)\n",
    "    embs.append(outputs.pooler_output.detach().numpy()[0])\n",
    "embs = np.array(embs)\n",
    "np.save('embs_bert_base_cased_(title+synoposis).npy', embs)"
   ],
   "outputs": [
    {
     "output_type": "stream",
     "name": "stderr",
     "text": [
      "100%|██████████| 3645/3645 [03:36<00:00, 16.81it/s]\n"
     ]
    }
   ],
   "metadata": {}
  },
  {
   "cell_type": "code",
   "execution_count": 6,
   "source": [
    "lens = []\n",
    "for name in tqdm(id2name):\n",
    "    inputs = tokenizer(name)['input_ids']\n",
    "    lens.append(len(inputs))\n",
    "print(np.mean(lens), np.std(lens))"
   ],
   "outputs": [
    {
     "output_type": "stream",
     "name": "stderr",
     "text": [
      "100%|██████████| 3645/3645 [00:01<00:00, 3310.24it/s]"
     ]
    },
    {
     "output_type": "stream",
     "name": "stdout",
     "text": [
      "72.66227709190672 37.96141013301181\n"
     ]
    },
    {
     "output_type": "stream",
     "name": "stderr",
     "text": [
      "\n"
     ]
    }
   ],
   "metadata": {}
  },
  {
   "cell_type": "code",
   "execution_count": 7,
   "source": [
    "# embs = np.load('embs_bert_base_cased.npy')\n",
    "embs = embs / np.linalg.norm(embs, ord=2, axis=-1, keepdims=True)\n",
    "sims = embs @ embs.T"
   ],
   "outputs": [],
   "metadata": {}
  },
  {
   "cell_type": "code",
   "execution_count": 8,
   "source": [
    "f1 = open('emb_projector/vectors.tsv', 'w')\n",
    "f2 = open('emb_projector/metadata.tsv', 'w')\n",
    "\n",
    "for emb, name in zip(embs, id2name):\n",
    "    f1.write('\\t'.join(map(str, emb.tolist())) + '\\n')\n",
    "    f2.write(name + '\\n')\n",
    "\n",
    "f1.close()\n",
    "f2.close()"
   ],
   "outputs": [],
   "metadata": {}
  },
  {
   "cell_type": "code",
   "execution_count": 9,
   "source": [
    "idx = 2\n",
    "print(id2name[idx])\n",
    "print()\n",
    "for sim_idx in (-sims[idx]).argsort()[:20]:\n",
    "    print(id2name[sim_idx], sims[idx][sim_idx])\n"
   ],
   "outputs": [
    {
     "output_type": "stream",
     "name": "stdout",
     "text": [
      "Grumpier Old Men (A family wedding reignites the ancient feud between next-door neighbors and fishing buddies John and Max. Meanwhile, a sultry Italian divorcée opens a restaurant at the local bait shop, alarming the locals who worry she'll scare the fish away. But she's less interested in seafood than she is in cooking up a hot time with Max.)\n",
      "\n",
      "Grumpier Old Men (A family wedding reignites the ancient feud between next-door neighbors and fishing buddies John and Max. Meanwhile, a sultry Italian divorcée opens a restaurant at the local bait shop, alarming the locals who worry she'll scare the fish away. But she's less interested in seafood than she is in cooking up a hot time with Max.) 1.0\n",
      "My Bodyguard (Clifford Peach, an easygoing teenager, is finding less than easy to fit in at his new high school, where a tough-talking bully terrorizes his classmates and extorts their lunch money. Refusing to pay up, Clifford enlist the aid of an overgrown misfit whose mere presence intimidates students and teachers alike. But their \"business relationship\" soon turns personal as Clifford and the troubled loner forge a winning alliance against their intimidators - and a very special friendship with each other.) 0.99887335\n",
      "Dolores Claiborne (Dolores Claiborne was accused of killing her abusive husband twenty years ago, but the court's findings were inconclusive and she was allowed to walk free. Now she has been accused of killing her employer, Vera Donovan, and this time there is a witness who can place her at the scene of the crime. Things look bad for Dolores when her daughter Selena, a successful Manhattan magazine writer, returns to cover the story.) 0.9988576\n",
      "Texas Chainsaw Massacre: The Next Generation (Everyone's favorite chainsaw-wielding psychopath, Leatherface, is back for more prom-night gore, and this time he's joined by his bloodthirsty family. Four stranded yet carefree teens are taken in by a backwoods family, clueless of their host family's grisly habits. The terrified youths, including sweet Jenny, try to escape from Leatherface and his crazed clan, including the bionic Vilmer.) 0.9987763\n",
      "Never Been Kissed (Josie Geller, a baby-faced junior copywriter at the Chicago Sun-Times, must pose as a student at her former high school to research contemporary teenage culture. With the help of her brother, Rob, Josie infiltrates the inner circle of the most popular clique on campus. But she hits a major snag in her investigation -- not to mention her own failed love life -- when she falls for her dreamy English teacher, Sam Coulson.) 0.99874425\n",
      "Drowning Mona (The recently deceased Mona Dearly was many things: an abusive wife, a domineering mother, a loud-mouthed neighbor and a violent malcontent. So when her car and corpse are discovered in the Hudson River, police Chief Wyatt Rash immediately suspects murder rather than an accident. But, since the whole community of Verplanck, N.Y., shares a deep hatred for this unceasingly spiteful woman, Rash finds his murder investigation overwhelmed with potential suspects.) 0.99871886\n",
      "Hope Floats (Birdee Pruitt has been humiliated on live television by her best friend, Connie, who's been sleeping with Birdee's husband, Bill. Birdee tries starting over with her daughter, Bernice, by returning to her small Texas hometown, but she's faced with petty old acquaintances who are thrilled to see Birdee unhappy -- except for her friend Justin. As he helps Birdee get back on her feet, love begins to blossom.) 0.9986558\n",
      "Palookaville (Jerry and his two pals, Russ and Syd, are just looking for some easy money to help them break out of their nowhere lives in their nowhere town. Despite a bungled jewelry store heist which exposes their incompetence as criminals, a fateful event (and an old black-and-white film) convinces them that they can pull off an armored-truck robbery. While they are busy plotting their caper, their dysfunctional families spin out of control, all around them.) 0.9985924\n",
      "Thieves (Martin and Sally Cramer grew up on the hardscrabble Lower East Side, where Sally still teaches; meanwhile, Martin's the head of a fancy private school. Romantic dalliances with others convince them that they're meant to be together despite their differences, a decision that's cemented, oddly enough, by an over-the-top argument that draws the police.) 0.9985889\n",
      "The Money Pit (After being evicted from their Manhattan apartment, a couple buy what looks like the home of their dreams—only to find themselves saddled with a bank-account-draining nightmare. Struggling to keep their relationship together as their rambling mansion falls to pieces around them, the two watch in hilarious horror as everything—including the kitchen sink—disappears into the Money Pit.) 0.99857575\n",
      "Trixie (Passed over at work and numbed after she witnesses a colleague's murder, security guard Trixie Zurbo takes a relatively easy job at a lakefront casino, working undercover keeping an eye out for pickpockets. Trixie meets an assortment of colorful regulars: Kirk Stans, the casino's lounge act who drinks too much and is a dead-on mimic; Ruby Pearli , a glamorous, young and knowledgeable barfly; and Dex Lang, a raffish ladies' man who pays attention to Trixie in a way that's hard for her to ignore.) 0.9985467\n",
      "Devil in a Blue Dress (In late 1940s Los Angeles, Easy Rawlins is an unemployed black World War II veteran with few job prospects. At a bar, Easy meets DeWitt Albright, a mysterious white man looking for someone to investigate the disappearance of a missing white woman named Daphne Monet, who he suspects is hiding out in one of the city's black jazz clubs. Strapped for money and facing house payments, Easy takes the job, but soon finds himself in over his head.) 0.99849266\n",
      "Illtown (Dante and his girlfrend Micky run a very profitable drug operation in a seaside town, aided and abetted by a host of teens who sell the smack at discos around town, as well as by Lucas, a corrupt cop who's on the take. Their downfall comes when they suspect one of the boys, Pep, of ripping them off, and his accidental death causes disloyalty among the teens, who suspect Dante offed them. All of this is perfect for the return of Gabriel, a one-time partner of Dante, who has just been released from jail, and has an almost angelic demeanor and the certainty that he can fix everyone's lives.) 0.9983849\n",
      "Gods and Monsters (It's 1957, and James Whale's heyday as the director of \"Frankenstein,\" \"Bride of Frankenstein\" and \"The Invisible Man\" is long behind him. Retired and a semi-recluse, he lives his days accompanied only by images from his past. When his dour housekeeper, Hannah, hires a handsome young gardener, the flamboyant director and simple yard man develop an unlikely friendship, which will change them forever.) 0.99832714\n",
      "Last Summer in the Hamptons (Helena Mora, the head of an eccentric theatrical family, has decided to sell her large estate in the Hamptons because of her recent money troubles. Before she completes the sale, she wants to have one last gathering of family and friends, with dramatic performances. Bringing everyone together, though, creates rivalries and tension, especially for Oona, a temperamental but successful movie actress who seeks the approval of her creative peers.) 0.9982798\n",
      "Tarantula (A lone-wolf scientist sequestered in a mansion near a small desert town arouses the suspicion of the town's doctor when his lab assistant is found dead from a case of acromegaly which took only four days to develop. As the doctor investigates, aided by the scientist's new, and very female, assistant, they discover that, far worse, something much larger and hungrier than it ever should be, is devouring local cattle - and humans - in increasingly large quantities.) 0.99824107\n",
      "The Van (In a working-class quarter of Dublin, 'Bimbo' Reeves gets laid off from his job and, with his redundancy payout, buys a van and sells fish and chips with his buddy, Larry. Due to Ireland's surprising success at the 1990 FIFA World Cup, their business starts off well, but the relationship between the two friends soon becomes strained as Bimbo behaves more like a typical boss.) 0.9982177\n",
      "King Creole (Danny Fisher, young delinquent, flunks out of high school. He quits his job as a busboy in a nightclub, and one night he gets the chance to perform. Success is imminent and the local crime boss Maxie Fields wants to hire him to perform at his night club The Blue Shade. Danny refuses, but Fields won't take no for an answer.) 0.9982027\n",
      "Men of Means (In a world where two men in close proximity will eventually draw guns, Rico \"BULLET\" Burke finds himself at a crossroads. Having long ago ruined his brilliant collegiate football career through his own folly, Rico must now decide whether to continue in complacent servitude as the collection muscle for a vicious Brooklyn mobster, or to put behind him the vagaries of his youth and look for that window of opportunity that will provide a better life for him and his wholly dependant brother Joey.) 0.99817914\n",
      "A Night at the Roxbury (Despite being well into adulthood, brothers Doug and Steve Butabi still live at home and work in the flower shop owned by their dad. They exist only to hit on women at discos, though they're routinely unsuccessful until a chance run-in with Richard Grieco gets them inside the swank Roxbury club. Mistaken for high rollers, they meet their dream women, Vivica and Cambi, and resolve to open a club of their own.) 0.9981662\n"
     ]
    }
   ],
   "metadata": {}
  },
  {
   "cell_type": "code",
   "execution_count": 15,
   "source": [
    "idx = 2\n",
    "print(id2name[idx])\n",
    "print()\n",
    "for sim_idx in (-sims[idx]).argsort()[:20]:\n",
    "    print(id2name[sim_idx], sims[idx][sim_idx])\n"
   ],
   "outputs": [
    {
     "output_type": "stream",
     "name": "stdout",
     "text": [
      "Grumpier Old Men\n",
      "\n",
      "Grumpier Old Men 1.0\n",
      "Grumpy Old Men 0.998638\n",
      "The Kid 0.9954133\n",
      "The Kid 0.9954133\n",
      "Bushwhacked 0.99519026\n",
      "The Man with the Golden Gun 0.9951815\n",
      "The Man with the Golden Arm 0.99513876\n",
      "A Few Good Men 0.9951285\n",
      "The Suburbans 0.9949783\n",
      "Things Change 0.9949132\n",
      "Honey, I Blew Up the Kid 0.9948431\n",
      "Bad Company 0.994802\n",
      "The Man Who Knew Too Little 0.99469674\n",
      "The American President 0.9946568\n",
      "Somebody is Waiting 0.994637\n",
      "A Fistful of Dollars 0.9946312\n",
      "The Wrong Trousers 0.99462044\n",
      "Love's Labour's Lost 0.99459875\n",
      "The Absent Minded Professor 0.9945713\n",
      "The Bear 0.99453956\n"
     ]
    }
   ],
   "metadata": {}
  },
  {
   "cell_type": "code",
   "execution_count": 31,
   "source": [],
   "outputs": [],
   "metadata": {}
  },
  {
   "cell_type": "code",
   "execution_count": 39,
   "source": [
    "movie_data = json.load(open('tmdb_movie_info.json'))\n",
    "len(movie_data)\n",
    "movie_data[4]['overview']\n",
    "with open('movie_data.tsv', 'w') as fout:\n",
    "    for item in movie_data:\n",
    "        title = ' '.join(item['title'].strip().split())\n",
    "        overview = ' '.join(item['overview'].strip().split())\n",
    "        if len(title) == 0 or len(overview) == 0: continue\n",
    "        fout.write(title + '\\t' + overview + '\\n')"
   ],
   "outputs": [],
   "metadata": {}
  },
  {
   "cell_type": "code",
   "execution_count": null,
   "source": [],
   "outputs": [],
   "metadata": {}
  }
 ],
 "metadata": {
  "orig_nbformat": 4,
  "language_info": {
   "name": "python",
   "version": "3.9.1",
   "mimetype": "text/x-python",
   "codemirror_mode": {
    "name": "ipython",
    "version": 3
   },
   "pygments_lexer": "ipython3",
   "nbconvert_exporter": "python",
   "file_extension": ".py"
  },
  "kernelspec": {
   "name": "python3",
   "display_name": "Python 3.9.1 64-bit ('base': conda)"
  },
  "interpreter": {
   "hash": "e329eaacdde1c3f16b1d348b966d5b9ad2a51ea4006f452504e74c885ba70bb5"
  }
 },
 "nbformat": 4,
 "nbformat_minor": 2
}