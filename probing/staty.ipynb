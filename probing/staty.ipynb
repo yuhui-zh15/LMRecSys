{
 "cells": [
  {
   "cell_type": "code",
   "execution_count": 38,
   "source": [
    "import json\n",
    "import pandas\n",
    "from collections import Counter\n",
    "import numpy as np"
   ],
   "outputs": [],
   "metadata": {}
  },
  {
   "cell_type": "code",
   "execution_count": 5,
   "source": [
    "interactions = []\n",
    "for i, line in enumerate(open('/home/ubuntu/develop/ConvRecProbingBERT/data/recommendation/goodreads_interactions_dedup.json')):\n",
    "    if i > 10000000: break\n",
    "    interactions.append(json.loads(line))"
   ],
   "outputs": [],
   "metadata": {}
  },
  {
   "cell_type": "code",
   "execution_count": 16,
   "source": [
    "names = pandas.read_csv('/home/ubuntu/develop/ConvRecProbingBERT/data/recommendation/books_names.csv').values.tolist()"
   ],
   "outputs": [],
   "metadata": {}
  },
  {
   "cell_type": "code",
   "execution_count": 18,
   "source": [
    "id2name = {name[0]: name[1] for name in names}"
   ],
   "outputs": [],
   "metadata": {}
  },
  {
   "cell_type": "code",
   "execution_count": 20,
   "source": [
    "books = [item['book_id'] for item in interactions]"
   ],
   "outputs": [],
   "metadata": {}
  },
  {
   "cell_type": "code",
   "execution_count": 22,
   "source": [
    "most_freq_books = Counter(books).most_common()"
   ],
   "outputs": [],
   "metadata": {}
  },
  {
   "cell_type": "code",
   "execution_count": 28,
   "source": [
    "name2freq = {id2name[int(item[0])]: item[1] for item in most_freq_books if int(item[0]) in id2name}"
   ],
   "outputs": [],
   "metadata": {}
  },
  {
   "cell_type": "code",
   "execution_count": 30,
   "source": [
    "json.dump(name2freq, open('name2freq.json', 'w'))"
   ],
   "outputs": [],
   "metadata": {}
  },
  {
   "cell_type": "code",
   "execution_count": 52,
   "source": [
    "import torch\n",
    "import os"
   ],
   "outputs": [],
   "metadata": {}
  },
  {
   "cell_type": "code",
   "execution_count": 53,
   "source": [
    "for filename in os.listdir('dumps'):\n",
    "    data = torch.load(f'dumps/{filename}')\n",
    "    data = np.array([item['log_probs'] for item in data]).reshape(-1, 2)\n",
    "    print(filename, np.mean(data[:, 0] > data[:, 1]))"
   ],
   "outputs": [
    {
     "output_type": "stream",
     "name": "stdout",
     "text": [
      "preds-test-20210819023835.pt 0.45091450914509146\n",
      "preds-test-20210819025316.pt 0.4108841088410884\n",
      "preds-test-20210819034123.pt 0.3946839468394684\n",
      "preds-test-20210819034209.pt 0.43592435924359246\n",
      "preds-test-20210819044153.pt 0.4815948159481595\n",
      "preds-test-20210819044558.pt 0.46494464944649444\n",
      "preds-test-20210819052839.pt 0.5646756467564675\n",
      "preds-test-20210819052905.pt 0.6099360993609936\n",
      "preds-test-20210819054902.pt 0.5412554125541256\n",
      "preds-test-20210819061416.pt 0.5425579790585341\n",
      "preds-test-20210819071720.pt 0.5706899482963808\n",
      "preds-test-20210819071804.pt 0.5283252832528326\n",
      "preds-test-20210819081429.pt 0.6\n",
      "preds-test-20210819081534.pt 0.52\n",
      "preds-test-20210819082311.pt 0.5496\n",
      "preds-test-20210819082627.pt 0.5382\n",
      "preds-test-20210819083308.pt 0.5998\n",
      "preds-test-20210819083506.pt 0.5382\n",
      "preds-test-20210819083757.pt 0.557\n",
      "preds-test-20210819084332.pt 0.5508\n",
      "preds-test-20210819084510.pt 0.5646\n",
      "preds-test-20210819090010.pt 0.5502\n",
      "preds-test-20210819123439.pt 0.57\n",
      "preds-test-20210819215453.pt 0.6066\n",
      "preds-test-20210819232625.pt 0.51171875\n",
      "preds-test-20210819233158.pt 0.5053125\n"
     ]
    }
   ],
   "metadata": {}
  },
  {
   "cell_type": "code",
   "execution_count": 50,
   "source": [],
   "outputs": [],
   "metadata": {}
  },
  {
   "cell_type": "code",
   "execution_count": 56,
   "source": [
    "book_probing = pandas.read_csv('../datasets/Probing/books.csv').values.tolist()"
   ],
   "outputs": [],
   "metadata": {}
  },
  {
   "cell_type": "code",
   "execution_count": 62,
   "source": [
    "book_data = []\n",
    "for item in book_probing:\n",
    "    try:\n",
    "        x, p, n = item[0].split(' [SEP] ')[0].strip(), item[1].strip(), item[2].strip()\n",
    "        book_data.append((x, p, n))\n",
    "    except:\n",
    "        pass\n"
   ],
   "outputs": [],
   "metadata": {}
  },
  {
   "cell_type": "code",
   "execution_count": 63,
   "source": [
    "len(book_data)"
   ],
   "outputs": [
    {
     "output_type": "execute_result",
     "data": {
      "text/plain": [
       "99999"
      ]
     },
     "metadata": {},
     "execution_count": 63
    }
   ],
   "metadata": {}
  },
  {
   "cell_type": "code",
   "execution_count": 70,
   "source": [
    "accs = []\n",
    "for item in book_data:\n",
    "    if name2freq.get(item[1], 0) > name2freq.get(item[2], 0):\n",
    "        accs.append(1)\n",
    "    elif name2freq.get(item[1], 0) < name2freq.get(item[2], 0):\n",
    "        accs.append(0)\n",
    "    else:\n",
    "        accs.append(random.choice([0, 1]))"
   ],
   "outputs": [],
   "metadata": {}
  },
  {
   "cell_type": "code",
   "execution_count": 66,
   "source": [
    "book_data[0]"
   ],
   "outputs": [
    {
     "output_type": "execute_result",
     "data": {
      "text/plain": [
       "('1984 by George Orwell',\n",
       " 'The Wrath and the Dawn (The Wrath and the Dawn, #1) by Renee Ahdieh',\n",
       " 'The Lovely Bones by Alice Sebold')"
      ]
     },
     "metadata": {},
     "execution_count": 66
    }
   ],
   "metadata": {}
  },
  {
   "cell_type": "code",
   "execution_count": 71,
   "source": [
    "np.mean(accs)"
   ],
   "outputs": [
    {
     "output_type": "execute_result",
     "data": {
      "text/plain": [
       "0.46823468234682347"
      ]
     },
     "metadata": {},
     "execution_count": 71
    }
   ],
   "metadata": {}
  },
  {
   "cell_type": "code",
   "execution_count": 69,
   "source": [
    "import random\n",
    "random.choice([0, 1])"
   ],
   "outputs": [
    {
     "output_type": "execute_result",
     "data": {
      "text/plain": [
       "0"
      ]
     },
     "metadata": {},
     "execution_count": 69
    }
   ],
   "metadata": {}
  },
  {
   "cell_type": "code",
   "execution_count": null,
   "source": [],
   "outputs": [],
   "metadata": {}
  }
 ],
 "metadata": {
  "orig_nbformat": 4,
  "language_info": {
   "name": "python",
   "version": "3.9.1",
   "mimetype": "text/x-python",
   "codemirror_mode": {
    "name": "ipython",
    "version": 3
   },
   "pygments_lexer": "ipython3",
   "nbconvert_exporter": "python",
   "file_extension": ".py"
  },
  "kernelspec": {
   "name": "python3",
   "display_name": "Python 3.9.1 64-bit ('base': conda)"
  },
  "interpreter": {
   "hash": "e329eaacdde1c3f16b1d348b966d5b9ad2a51ea4006f452504e74c885ba70bb5"
  }
 },
 "nbformat": 4,
 "nbformat_minor": 2
}